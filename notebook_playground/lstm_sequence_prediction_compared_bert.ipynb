{
 "cells": [
  {
   "cell_type": "markdown",
   "metadata": {},
   "source": [
    "# LSTM sequence prediction\n",
    "-----------------------\n",
    "bert와 성능비교를 위해 간단하게 구성해본 LSTM"
   ]
  },
  {
   "cell_type": "markdown",
   "metadata": {},
   "source": [
    "## Data load\n",
    "----------------------"
   ]
  },
  {
   "cell_type": "code",
   "execution_count": 1,
   "metadata": {},
   "outputs": [
    {
     "name": "stderr",
     "output_type": "stream",
     "text": [
      "C:\\Users\\SHIN-DESKTOP\\Anaconda3\\envs\\KoreaUnivDeep_main\\lib\\site-packages\\numpy\\_distributor_init.py:32: UserWarning: loaded more than 1 DLL from .libs:\n",
      "C:\\Users\\SHIN-DESKTOP\\Anaconda3\\envs\\KoreaUnivDeep_main\\lib\\site-packages\\numpy\\.libs\\libopenblas.IPBC74C7KURV7CB2PKT5Z5FNR3SIBV4J.gfortran-win_amd64.dll\n",
      "C:\\Users\\SHIN-DESKTOP\\Anaconda3\\envs\\KoreaUnivDeep_main\\lib\\site-packages\\numpy\\.libs\\libopenblas.PYQHXLVVQ7VESDPUVUADXEVJOBGHJPAY.gfortran-win_amd64.dll\n",
      "  stacklevel=1)\n",
      "C:\\Users\\SHIN-DESKTOP\\AppData\\Roaming\\Python\\Python36\\site-packages\\tensorflow\\python\\framework\\dtypes.py:523: FutureWarning: Passing (type, 1) or '1type' as a synonym of type is deprecated; in a future version of numpy, it will be understood as (type, (1,)) / '(1,)type'.\n",
      "  _np_qint8 = np.dtype([(\"qint8\", np.int8, 1)])\n",
      "C:\\Users\\SHIN-DESKTOP\\AppData\\Roaming\\Python\\Python36\\site-packages\\tensorflow\\python\\framework\\dtypes.py:524: FutureWarning: Passing (type, 1) or '1type' as a synonym of type is deprecated; in a future version of numpy, it will be understood as (type, (1,)) / '(1,)type'.\n",
      "  _np_quint8 = np.dtype([(\"quint8\", np.uint8, 1)])\n",
      "C:\\Users\\SHIN-DESKTOP\\AppData\\Roaming\\Python\\Python36\\site-packages\\tensorflow\\python\\framework\\dtypes.py:525: FutureWarning: Passing (type, 1) or '1type' as a synonym of type is deprecated; in a future version of numpy, it will be understood as (type, (1,)) / '(1,)type'.\n",
      "  _np_qint16 = np.dtype([(\"qint16\", np.int16, 1)])\n",
      "C:\\Users\\SHIN-DESKTOP\\AppData\\Roaming\\Python\\Python36\\site-packages\\tensorflow\\python\\framework\\dtypes.py:526: FutureWarning: Passing (type, 1) or '1type' as a synonym of type is deprecated; in a future version of numpy, it will be understood as (type, (1,)) / '(1,)type'.\n",
      "  _np_quint16 = np.dtype([(\"quint16\", np.uint16, 1)])\n",
      "C:\\Users\\SHIN-DESKTOP\\AppData\\Roaming\\Python\\Python36\\site-packages\\tensorflow\\python\\framework\\dtypes.py:527: FutureWarning: Passing (type, 1) or '1type' as a synonym of type is deprecated; in a future version of numpy, it will be understood as (type, (1,)) / '(1,)type'.\n",
      "  _np_qint32 = np.dtype([(\"qint32\", np.int32, 1)])\n",
      "C:\\Users\\SHIN-DESKTOP\\AppData\\Roaming\\Python\\Python36\\site-packages\\tensorflow\\python\\framework\\dtypes.py:532: FutureWarning: Passing (type, 1) or '1type' as a synonym of type is deprecated; in a future version of numpy, it will be understood as (type, (1,)) / '(1,)type'.\n",
      "  np_resource = np.dtype([(\"resource\", np.ubyte, 1)])\n"
     ]
    }
   ],
   "source": [
    "from tensorflow.keras.models import Sequential\n",
    "from tensorflow.keras.layers import Dense\n",
    "from tensorflow.keras.layers import LSTM\n",
    "from tensorflow.keras.layers import Embedding\n",
    "from tensorflow.keras.preprocessing import sequence\n",
    "from sklearn.metrics import matthews_corrcoef\n",
    "import numpy as np"
   ]
  },
  {
   "cell_type": "code",
   "execution_count": 2,
   "metadata": {},
   "outputs": [
    {
     "name": "stdout",
     "output_type": "stream",
     "text": [
      "Number of training sentences: 8,551\n",
      "\n"
     ]
    },
    {
     "data": {
      "text/html": [
       "<div>\n",
       "<style scoped>\n",
       "    .dataframe tbody tr th:only-of-type {\n",
       "        vertical-align: middle;\n",
       "    }\n",
       "\n",
       "    .dataframe tbody tr th {\n",
       "        vertical-align: top;\n",
       "    }\n",
       "\n",
       "    .dataframe thead th {\n",
       "        text-align: right;\n",
       "    }\n",
       "</style>\n",
       "<table border=\"1\" class=\"dataframe\">\n",
       "  <thead>\n",
       "    <tr style=\"text-align: right;\">\n",
       "      <th></th>\n",
       "      <th>sentence_source</th>\n",
       "      <th>label</th>\n",
       "      <th>label_notes</th>\n",
       "      <th>sentence</th>\n",
       "    </tr>\n",
       "  </thead>\n",
       "  <tbody>\n",
       "    <tr>\n",
       "      <th>7260</th>\n",
       "      <td>sks13</td>\n",
       "      <td>1</td>\n",
       "      <td>NaN</td>\n",
       "      <td>I run on the beach.</td>\n",
       "    </tr>\n",
       "    <tr>\n",
       "      <th>7880</th>\n",
       "      <td>ad03</td>\n",
       "      <td>1</td>\n",
       "      <td>NaN</td>\n",
       "      <td>Why did you kill Pegasus?</td>\n",
       "    </tr>\n",
       "    <tr>\n",
       "      <th>7135</th>\n",
       "      <td>sks13</td>\n",
       "      <td>1</td>\n",
       "      <td>NaN</td>\n",
       "      <td>She will put a picture of Bill on your desk be...</td>\n",
       "    </tr>\n",
       "    <tr>\n",
       "      <th>6415</th>\n",
       "      <td>d_98</td>\n",
       "      <td>1</td>\n",
       "      <td>NaN</td>\n",
       "      <td>John talked to any politician who is powerful.</td>\n",
       "    </tr>\n",
       "    <tr>\n",
       "      <th>4871</th>\n",
       "      <td>ks08</td>\n",
       "      <td>1</td>\n",
       "      <td>NaN</td>\n",
       "      <td>The video which I thought John told us you rec...</td>\n",
       "    </tr>\n",
       "    <tr>\n",
       "      <th>3793</th>\n",
       "      <td>ks08</td>\n",
       "      <td>0</td>\n",
       "      <td>*</td>\n",
       "      <td>John gave Tom a book a record.</td>\n",
       "    </tr>\n",
       "    <tr>\n",
       "      <th>1684</th>\n",
       "      <td>r-67</td>\n",
       "      <td>0</td>\n",
       "      <td>*</td>\n",
       "      <td>It was John's that I stole bike.</td>\n",
       "    </tr>\n",
       "    <tr>\n",
       "      <th>4510</th>\n",
       "      <td>ks08</td>\n",
       "      <td>0</td>\n",
       "      <td>*</td>\n",
       "      <td>The president could not approve the bill, coul...</td>\n",
       "    </tr>\n",
       "    <tr>\n",
       "      <th>984</th>\n",
       "      <td>bc01</td>\n",
       "      <td>0</td>\n",
       "      <td>*</td>\n",
       "      <td>The problem knows easily.</td>\n",
       "    </tr>\n",
       "    <tr>\n",
       "      <th>1838</th>\n",
       "      <td>r-67</td>\n",
       "      <td>1</td>\n",
       "      <td>NaN</td>\n",
       "      <td>That they spoke to the janitor about that robb...</td>\n",
       "    </tr>\n",
       "  </tbody>\n",
       "</table>\n",
       "</div>"
      ],
      "text/plain": [
       "     sentence_source  label label_notes  \\\n",
       "7260           sks13      1         NaN   \n",
       "7880            ad03      1         NaN   \n",
       "7135           sks13      1         NaN   \n",
       "6415            d_98      1         NaN   \n",
       "4871            ks08      1         NaN   \n",
       "3793            ks08      0           *   \n",
       "1684            r-67      0           *   \n",
       "4510            ks08      0           *   \n",
       "984             bc01      0           *   \n",
       "1838            r-67      1         NaN   \n",
       "\n",
       "                                               sentence  \n",
       "7260                                I run on the beach.  \n",
       "7880                          Why did you kill Pegasus?  \n",
       "7135  She will put a picture of Bill on your desk be...  \n",
       "6415     John talked to any politician who is powerful.  \n",
       "4871  The video which I thought John told us you rec...  \n",
       "3793                     John gave Tom a book a record.  \n",
       "1684                   It was John's that I stole bike.  \n",
       "4510  The president could not approve the bill, coul...  \n",
       "984                           The problem knows easily.  \n",
       "1838  That they spoke to the janitor about that robb...  "
      ]
     },
     "execution_count": 2,
     "metadata": {},
     "output_type": "execute_result"
    }
   ],
   "source": [
    "import pandas as pd\n",
    "\n",
    "df = pd.read_csv(\".\\\\data\\\\cola_public\\\\raw\\\\in_domain_train.tsv\", delimiter='\\t', header=None, names=['sentence_source', 'label', 'label_notes', 'sentence'])\n",
    "print('Number of training sentences: {:,}\\n'.format(df.shape[0]))\n",
    "df.sample(10)"
   ]
  },
  {
   "cell_type": "code",
   "execution_count": 3,
   "metadata": {},
   "outputs": [
    {
     "data": {
      "text/html": [
       "<div>\n",
       "<style scoped>\n",
       "    .dataframe tbody tr th:only-of-type {\n",
       "        vertical-align: middle;\n",
       "    }\n",
       "\n",
       "    .dataframe tbody tr th {\n",
       "        vertical-align: top;\n",
       "    }\n",
       "\n",
       "    .dataframe thead th {\n",
       "        text-align: right;\n",
       "    }\n",
       "</style>\n",
       "<table border=\"1\" class=\"dataframe\">\n",
       "  <thead>\n",
       "    <tr style=\"text-align: right;\">\n",
       "      <th></th>\n",
       "      <th>sentence</th>\n",
       "      <th>label</th>\n",
       "    </tr>\n",
       "  </thead>\n",
       "  <tbody>\n",
       "    <tr>\n",
       "      <th>220</th>\n",
       "      <td>The more people everyone who likes pays attent...</td>\n",
       "      <td>0</td>\n",
       "    </tr>\n",
       "    <tr>\n",
       "      <th>5513</th>\n",
       "      <td>That's a kindest answer that I ever heard.</td>\n",
       "      <td>0</td>\n",
       "    </tr>\n",
       "    <tr>\n",
       "      <th>23</th>\n",
       "      <td>We yelled Harry hoarse.</td>\n",
       "      <td>0</td>\n",
       "    </tr>\n",
       "    <tr>\n",
       "      <th>2783</th>\n",
       "      <td>Baseballs toss easily.</td>\n",
       "      <td>0</td>\n",
       "    </tr>\n",
       "    <tr>\n",
       "      <th>5796</th>\n",
       "      <td>I loved intensely the policeman with all my he...</td>\n",
       "      <td>0</td>\n",
       "    </tr>\n",
       "  </tbody>\n",
       "</table>\n",
       "</div>"
      ],
      "text/plain": [
       "                                               sentence  label\n",
       "220   The more people everyone who likes pays attent...      0\n",
       "5513         That's a kindest answer that I ever heard.      0\n",
       "23                              We yelled Harry hoarse.      0\n",
       "2783                             Baseballs toss easily.      0\n",
       "5796  I loved intensely the policeman with all my he...      0"
      ]
     },
     "execution_count": 3,
     "metadata": {},
     "output_type": "execute_result"
    }
   ],
   "source": [
    "df.loc[df.label == 0].sample(5)[['sentence', 'label']]"
   ]
  },
  {
   "cell_type": "code",
   "execution_count": 4,
   "metadata": {},
   "outputs": [
    {
     "name": "stdout",
     "output_type": "stream",
     "text": [
      "8551 8551\n"
     ]
    }
   ],
   "source": [
    "sentences = df.sentence.values\n",
    "labels = df.label.values\n",
    "print(len(sentences), len(labels))"
   ]
  },
  {
   "cell_type": "markdown",
   "metadata": {},
   "source": [
    "## Tokenize & data split\n",
    "----------------------"
   ]
  },
  {
   "cell_type": "code",
   "execution_count": 5,
   "metadata": {},
   "outputs": [
    {
     "name": "stdout",
     "output_type": "stream",
     "text": [
      "단어 집합의 크기 : 5521\n"
     ]
    }
   ],
   "source": [
    "from tensorflow.keras.preprocessing.text import Tokenizer\n",
    "\n",
    "t  = Tokenizer()\n",
    "t.fit_on_texts(sentences)\n",
    "vocab_size = len(t.word_index) + 1\n",
    "print('단어 집합의 크기 : {}'.format(vocab_size))"
   ]
  },
  {
   "cell_type": "code",
   "execution_count": 6,
   "metadata": {},
   "outputs": [
    {
     "name": "stdout",
     "output_type": "stream",
     "text": [
      "학습에 사용할 샘플의 개수: 8551\n"
     ]
    }
   ],
   "source": [
    "sequences = []\n",
    "\n",
    "for sent in sentences:\n",
    "    encoded = t.texts_to_sequences([sent])[0]\n",
    "    #print(sent)\n",
    "    #print(encoded)\n",
    "    sequences.append(encoded)\n",
    "\n",
    "print('학습에 사용할 샘플의 개수: {}'.format(len(sequences)))"
   ]
  },
  {
   "cell_type": "code",
   "execution_count": 7,
   "metadata": {
    "scrolled": true
   },
   "outputs": [
    {
     "name": "stdout",
     "output_type": "stream",
     "text": [
      "42\n"
     ]
    }
   ],
   "source": [
    "max_len = max(len(l) for l in sequences)\n",
    "sequences = sequence.pad_sequences(sequences, maxlen=max_len, padding='pre')\n",
    "print(max_len)"
   ]
  },
  {
   "cell_type": "code",
   "execution_count": 8,
   "metadata": {},
   "outputs": [],
   "source": [
    "from sklearn.model_selection import train_test_split\n",
    "\n",
    "x_train, x_valid, y_train, y_valid = train_test_split(sequences, labels, test_size=0.1, shuffle= True)"
   ]
  },
  {
   "cell_type": "markdown",
   "metadata": {},
   "source": [
    "## Model\n",
    "------------------"
   ]
  },
  {
   "cell_type": "code",
   "execution_count": 9,
   "metadata": {},
   "outputs": [
    {
     "name": "stdout",
     "output_type": "stream",
     "text": [
      "_________________________________________________________________\n",
      "Layer (type)                 Output Shape              Param #   \n",
      "=================================================================\n",
      "embedding (Embedding)        (None, 42, 32)            176672    \n",
      "_________________________________________________________________\n",
      "lstm (LSTM)                  (None, 100)               53200     \n",
      "_________________________________________________________________\n",
      "dense (Dense)                (None, 1)                 101       \n",
      "=================================================================\n",
      "Total params: 229,973\n",
      "Trainable params: 229,973\n",
      "Non-trainable params: 0\n",
      "_________________________________________________________________\n",
      "None\n"
     ]
    },
    {
     "name": "stderr",
     "output_type": "stream",
     "text": [
      "C:\\Users\\SHIN-DESKTOP\\AppData\\Roaming\\Python\\Python36\\site-packages\\tensorflow\\python\\ops\\gradients_impl.py:100: UserWarning: Converting sparse IndexedSlices to a dense Tensor of unknown shape. This may consume a large amount of memory.\n",
      "  \"Converting sparse IndexedSlices to a dense Tensor of unknown shape. \"\n"
     ]
    },
    {
     "name": "stdout",
     "output_type": "stream",
     "text": [
      "Train on 7695 samples, validate on 856 samples\n",
      "Epoch 1/50\n",
      "7695/7695 [==============================] - 15s 2ms/step - loss: 0.6121 - acc: 0.7042 - val_loss: 0.6049 - val_acc: 0.7056\n",
      "Epoch 2/50\n",
      "7695/7695 [==============================] - 12s 2ms/step - loss: 0.6041 - acc: 0.7042 - val_loss: 0.6016 - val_acc: 0.7056\n",
      "Epoch 3/50\n",
      "7695/7695 [==============================] - 12s 2ms/step - loss: 0.5903 - acc: 0.7049 - val_loss: 0.5987 - val_acc: 0.7079\n",
      "Epoch 4/50\n",
      "7695/7695 [==============================] - 12s 2ms/step - loss: 0.5535 - acc: 0.7189 - val_loss: 0.6072 - val_acc: 0.6916\n",
      "Epoch 5/50\n",
      "7695/7695 [==============================] - 12s 2ms/step - loss: 0.5048 - acc: 0.7454 - val_loss: 0.6460 - val_acc: 0.6787\n",
      "Epoch 6/50\n",
      "7695/7695 [==============================] - 12s 2ms/step - loss: 0.4606 - acc: 0.7740 - val_loss: 0.6980 - val_acc: 0.6904\n",
      "Epoch 7/50\n",
      "7695/7695 [==============================] - 12s 2ms/step - loss: 0.4171 - acc: 0.7974 - val_loss: 0.7397 - val_acc: 0.6250\n",
      "Epoch 8/50\n",
      "7695/7695 [==============================] - 12s 2ms/step - loss: 0.3938 - acc: 0.8097 - val_loss: 0.7559 - val_acc: 0.6390\n",
      "Epoch 9/50\n",
      "7695/7695 [==============================] - 12s 2ms/step - loss: 0.3546 - acc: 0.8288 - val_loss: 0.7848 - val_acc: 0.6285\n",
      "Epoch 10/50\n",
      "7695/7695 [==============================] - 12s 2ms/step - loss: 0.3270 - acc: 0.8428 - val_loss: 0.8423 - val_acc: 0.6238\n",
      "Epoch 11/50\n",
      "7695/7695 [==============================] - 12s 2ms/step - loss: 0.3050 - acc: 0.8529 - val_loss: 0.9824 - val_acc: 0.6192\n",
      "Epoch 12/50\n",
      "7695/7695 [==============================] - 12s 2ms/step - loss: 0.2822 - acc: 0.8671 - val_loss: 1.0333 - val_acc: 0.6180\n",
      "Epoch 13/50\n",
      "7695/7695 [==============================] - 12s 2ms/step - loss: 0.2662 - acc: 0.8736 - val_loss: 1.1005 - val_acc: 0.6215\n",
      "Epoch 14/50\n",
      "7695/7695 [==============================] - 12s 2ms/step - loss: 0.2448 - acc: 0.8847 - val_loss: 1.2422 - val_acc: 0.6180\n",
      "Epoch 15/50\n",
      "7695/7695 [==============================] - 12s 2ms/step - loss: 0.2319 - acc: 0.8912 - val_loss: 1.2036 - val_acc: 0.6180\n",
      "Epoch 16/50\n",
      "7695/7695 [==============================] - 12s 2ms/step - loss: 0.2195 - acc: 0.9005 - val_loss: 1.2475 - val_acc: 0.6098\n",
      "Epoch 17/50\n",
      "7695/7695 [==============================] - 12s 2ms/step - loss: 0.2098 - acc: 0.9046 - val_loss: 1.3124 - val_acc: 0.6098oss - ETA: 5s - \n",
      "Epoch 18/50\n",
      "7695/7695 [==============================] - 12s 2ms/step - loss: 0.2005 - acc: 0.9067 - val_loss: 1.3672 - val_acc: 0.6192\n",
      "Epoch 19/50\n",
      "7695/7695 [==============================] - 12s 2ms/step - loss: 0.1853 - acc: 0.9150 - val_loss: 1.4585 - val_acc: 0.5923\n",
      "Epoch 20/50\n",
      "7695/7695 [==============================] - 12s 2ms/step - loss: 0.1795 - acc: 0.9225 - val_loss: 1.4814 - val_acc: 0.5981\n",
      "Epoch 21/50\n",
      "7695/7695 [==============================] - 12s 2ms/step - loss: 0.1748 - acc: 0.9223 - val_loss: 1.5819 - val_acc: 0.6063\n",
      "Epoch 22/50\n",
      "7695/7695 [==============================] - 12s 2ms/step - loss: 0.1656 - acc: 0.9263 - val_loss: 1.6926 - val_acc: 0.5935\n",
      "Epoch 23/50\n",
      "7695/7695 [==============================] - 12s 2ms/step - loss: 0.1556 - acc: 0.9326 - val_loss: 1.5526 - val_acc: 0.5946\n",
      "Epoch 24/50\n",
      "7695/7695 [==============================] - 12s 2ms/step - loss: 0.1485 - acc: 0.9344 - val_loss: 1.6860 - val_acc: 0.5923\n",
      "Epoch 25/50\n",
      "7695/7695 [==============================] - 12s 2ms/step - loss: 0.1480 - acc: 0.9344 - val_loss: 1.7337 - val_acc: 0.5911\n",
      "Epoch 26/50\n",
      "7695/7695 [==============================] - 12s 2ms/step - loss: 0.1411 - acc: 0.9391 - val_loss: 1.8814 - val_acc: 0.5864\n",
      "Epoch 27/50\n",
      "7695/7695 [==============================] - 12s 2ms/step - loss: 0.1319 - acc: 0.9420 - val_loss: 1.7964 - val_acc: 0.5993\n",
      "Epoch 28/50\n",
      "7695/7695 [==============================] - 12s 2ms/step - loss: 0.1237 - acc: 0.9465 - val_loss: 2.0235 - val_acc: 0.5759\n",
      "Epoch 29/50\n",
      "7695/7695 [==============================] - 12s 2ms/step - loss: 0.1209 - acc: 0.9488 - val_loss: 2.0127 - val_acc: 0.5818\n",
      "Epoch 30/50\n",
      "7695/7695 [==============================] - 12s 2ms/step - loss: 0.1149 - acc: 0.9511 - val_loss: 2.0646 - val_acc: 0.5935\n",
      "Epoch 31/50\n",
      "7695/7695 [==============================] - 12s 2ms/step - loss: 0.1105 - acc: 0.9519 - val_loss: 2.0479 - val_acc: 0.5923\n",
      "Epoch 32/50\n",
      "7695/7695 [==============================] - 12s 2ms/step - loss: 0.1080 - acc: 0.9550 - val_loss: 2.1321 - val_acc: 0.5864\n",
      "Epoch 33/50\n",
      "7695/7695 [==============================] - 12s 2ms/step - loss: 0.1036 - acc: 0.9567 - val_loss: 2.2234 - val_acc: 0.5970\n",
      "Epoch 34/50\n",
      "7695/7695 [==============================] - 12s 2ms/step - loss: 0.0978 - acc: 0.9600 - val_loss: 2.1391 - val_acc: 0.5981\n",
      "Epoch 35/50\n",
      "7695/7695 [==============================] - 12s 2ms/step - loss: 0.0898 - acc: 0.9619 - val_loss: 2.2979 - val_acc: 0.5794\n",
      "Epoch 36/50\n",
      "7695/7695 [==============================] - 12s 2ms/step - loss: 0.0861 - acc: 0.9644 - val_loss: 2.3263 - val_acc: 0.5981\n",
      "Epoch 37/50\n",
      "7695/7695 [==============================] - 12s 2ms/step - loss: 0.0773 - acc: 0.9692 - val_loss: 2.4345 - val_acc: 0.5946\n",
      "Epoch 38/50\n",
      "7695/7695 [==============================] - 12s 2ms/step - loss: 0.0754 - acc: 0.9699 - val_loss: 2.4208 - val_acc: 0.5864\n",
      "Epoch 39/50\n",
      "7695/7695 [==============================] - 12s 2ms/step - loss: 0.0723 - acc: 0.9693 - val_loss: 2.4893 - val_acc: 0.5970\n",
      "Epoch 40/50\n",
      "7695/7695 [==============================] - 12s 2ms/step - loss: 0.0646 - acc: 0.9756 - val_loss: 2.6100 - val_acc: 0.5771\n",
      "Epoch 41/50\n",
      "7695/7695 [==============================] - 12s 2ms/step - loss: 0.0634 - acc: 0.9769 - val_loss: 2.5699 - val_acc: 0.6028\n",
      "Epoch 42/50\n",
      "7695/7695 [==============================] - 12s 2ms/step - loss: 0.0596 - acc: 0.9761 - val_loss: 2.5809 - val_acc: 0.5935\n",
      "Epoch 43/50\n",
      "7695/7695 [==============================] - 12s 2ms/step - loss: 0.0610 - acc: 0.9745 - val_loss: 2.6809 - val_acc: 0.5900\n",
      "Epoch 44/50\n",
      "7695/7695 [==============================] - 12s 2ms/step - loss: 0.0524 - acc: 0.9793 - val_loss: 2.6670 - val_acc: 0.5900\n",
      "Epoch 45/50\n",
      "7695/7695 [==============================] - 12s 2ms/step - loss: 0.0447 - acc: 0.9839 - val_loss: 2.8198 - val_acc: 0.6016\n",
      "Epoch 46/50\n",
      "7695/7695 [==============================] - 12s 2ms/step - loss: 0.0470 - acc: 0.9834 - val_loss: 2.7813 - val_acc: 0.6098\n",
      "Epoch 47/50\n",
      "7695/7695 [==============================] - 12s 1ms/step - loss: 0.0486 - acc: 0.9822 - val_loss: 2.7991 - val_acc: 0.5853\n",
      "Epoch 48/50\n",
      "7695/7695 [==============================] - 12s 2ms/step - loss: 0.0418 - acc: 0.9836 - val_loss: 2.7270 - val_acc: 0.6016\n",
      "Epoch 49/50\n",
      "7695/7695 [==============================] - 12s 2ms/step - loss: 0.0405 - acc: 0.9866 - val_loss: 3.0588 - val_acc: 0.5958\n",
      "Epoch 50/50\n",
      "7695/7695 [==============================] - 12s 2ms/step - loss: 0.0375 - acc: 0.9864 - val_loss: 2.8836 - val_acc: 0.6005\n"
     ]
    }
   ],
   "source": [
    "from tensorflow.keras.models import Sequential\n",
    "from tensorflow.keras.layers import Embedding, Dense, SimpleRNN\n",
    "\n",
    "lstm_model = Sequential()\n",
    "lstm_model.add(Embedding(vocab_size, 32, input_length=max_len))\n",
    "lstm_model.add(LSTM(100))\n",
    "lstm_model.add(Dense(1, activation='sigmoid'))\n",
    "lstm_model.compile(loss='binary_crossentropy', optimizer='adam', metrics=['accuracy'])\n",
    "print(lstm_model.summary())\n",
    "hist = lstm_model.fit(x_train, y_train, validation_data=(x_valid, y_valid), epochs=50, batch_size=64)"
   ]
  },
  {
   "cell_type": "code",
   "execution_count": 10,
   "metadata": {},
   "outputs": [
    {
     "name": "stdout",
     "output_type": "stream",
     "text": [
      "Accuracy: 60.05%\n"
     ]
    }
   ],
   "source": [
    "# Final evaluation of the model\n",
    "scores = lstm_model.evaluate(x_valid, y_valid, verbose=0)\n",
    "print(\"Accuracy: %.2f%%\" % (scores[1]*100))"
   ]
  },
  {
   "cell_type": "code",
   "execution_count": 19,
   "metadata": {},
   "outputs": [
    {
     "data": {
      "image/png": "[encoded data removed]",
      "text/plain": [
       "<Figure size 432x288 with 2 Axes>"
      ]
     },
     "metadata": {
      "needs_background": "light"
     },
     "output_type": "display_data"
    }
   ],
   "source": [
    "import matplotlib.pyplot as plt\n",
    "\n",
    "fig, loss_ax = plt.subplots()\n",
    "acc_ax = loss_ax.twinx()\n",
    "\n",
    "loss_ax.set_xlabel('epoch')\n",
    "acc_ax.plot(hist.history['acc'], 'b', label='train acc')\n",
    "acc_ax.plot(hist.history['val_acc'], 'g', label='val acc')\n",
    "acc_ax.set_ylabel('accuracy')\n",
    "acc_ax.legend(loc='upper left')\n",
    "\n",
    "plt.show()"
   ]
  },
  {
   "cell_type": "code",
   "execution_count": 20,
   "metadata": {},
   "outputs": [
    {
     "data": {
      "image/png": "[encoded data removed]",
      "text/plain": [
       "<Figure size 432x288 with 2 Axes>"
      ]
     },
     "metadata": {
      "needs_background": "light"
     },
     "output_type": "display_data"
    }
   ],
   "source": [
    "fig, loss_ax = plt.subplots()\n",
    "acc_ax = loss_ax.twinx()\n",
    "\n",
    "loss_ax.plot(hist.history['loss'], 'y', label='train loss')\n",
    "loss_ax.plot(hist.history['val_loss'], 'r', label='val loss')\n",
    "loss_ax.set_xlabel('epoch')\n",
    "loss_ax.set_ylabel('loss')\n",
    "loss_ax.legend(loc='upper left')\n",
    "\n",
    "plt.show()"
   ]
  },
  {
   "cell_type": "markdown",
   "metadata": {},
   "source": [
    "## Apply to the test dataset\n",
    "---------------------"
   ]
  },
  {
   "cell_type": "code",
   "execution_count": 12,
   "metadata": {},
   "outputs": [
    {
     "name": "stdout",
     "output_type": "stream",
     "text": [
      "Number of test sentences: 516\n",
      "\n",
      "테스트에 사용할 샘플의 개수: 516\n"
     ]
    }
   ],
   "source": [
    "test_df = pd.read_csv(\".\\\\data\\\\cola_public\\\\raw\\\\out_of_domain_dev.tsv\", delimiter='\\t', header=None, names=['sentence_source', 'label', 'label_notes', 'sentence'])\n",
    "\n",
    "# Report the number of sentences.\n",
    "print('Number of test sentences: {:,}\\n'.format(test_df.shape[0]))\n",
    "\n",
    "# Create sentence and label lists\n",
    "test_sentences = test_df.sentence.values\n",
    "test_labels = test_df.label.values\n",
    "\n",
    "test_sequences = []\n",
    "\n",
    "for sent in test_sentences:\n",
    "    encoded = t.texts_to_sequences([sent])[0]\n",
    "    test_sequences.append(encoded)\n",
    "\n",
    "print('테스트에 사용할 샘플의 개수: {}'.format(len(test_sequences)))"
   ]
  },
  {
   "cell_type": "code",
   "execution_count": 13,
   "metadata": {},
   "outputs": [],
   "source": [
    "max_len = max(len(l) for l in test_sequences)\n",
    "max_len = 42\n",
    "test_sequences = sequence.pad_sequences(test_sequences, maxlen=max_len, padding='pre')"
   ]
  },
  {
   "cell_type": "code",
   "execution_count": 14,
   "metadata": {},
   "outputs": [
    {
     "name": "stdout",
     "output_type": "stream",
     "text": [
      "Accuracy: 62.40%\n"
     ]
    }
   ],
   "source": [
    "# Final evaluation of the model\n",
    "scores = lstm_model.evaluate(test_sequences, test_labels, verbose=0)\n",
    "print(\"Accuracy: %.2f%%\" % (scores[1]*100))"
   ]
  },
  {
   "cell_type": "markdown",
   "metadata": {},
   "source": [
    "## MCC score\n",
    "----------------------------"
   ]
  },
  {
   "cell_type": "code",
   "execution_count": 16,
   "metadata": {},
   "outputs": [
    {
     "name": "stdout",
     "output_type": "stream",
     "text": [
      "(516,)\n"
     ]
    }
   ],
   "source": [
    "predictions = lstm_model.predict(test_sequences)\n",
    "for i in range(len(predictions)):\n",
    "    if(predictions[i] > 0.5):\n",
    "        predictions[i] = 1\n",
    "    else:\n",
    "        predictions[i] = 0\n",
    "    \n",
    "predictions = np.squeeze(predictions)\n",
    "print(predictions.shape)"
   ]
  },
  {
   "cell_type": "code",
   "execution_count": 17,
   "metadata": {},
   "outputs": [
    {
     "name": "stdout",
     "output_type": "stream",
     "text": [
      "Calculating Matthews Corr. Coef. for each batch...\n",
      "(516,)\n",
      "(516,)\n",
      "mcc score: 0.11545330290120216\n"
     ]
    }
   ],
   "source": [
    "# Evaluate each test batch using Matthew's correlation coefficient\n",
    "print('Calculating Matthews Corr. Coef. for each batch...')\n",
    "\n",
    "print(test_labels.shape)\n",
    "print(predictions.shape)\n",
    "\n",
    "matthews = matthews_corrcoef(test_labels, predictions)\n",
    "print('mcc score: {}'.format(matthews))"
   ]
  },
  {
   "cell_type": "markdown",
   "metadata": {},
   "source": [
    "## another model\n",
    "------------------"
   ]
  },
  {
   "cell_type": "code",
   "execution_count": 21,
   "metadata": {},
   "outputs": [
    {
     "name": "stdout",
     "output_type": "stream",
     "text": [
      "_________________________________________________________________\n",
      "Layer (type)                 Output Shape              Param #   \n",
      "=================================================================\n",
      "embedding_1 (Embedding)      (None, 42, 32)            176672    \n",
      "_________________________________________________________________\n",
      "lstm_1 (LSTM)                (None, 50)                16600     \n",
      "_________________________________________________________________\n",
      "dense_1 (Dense)              (None, 1)                 51        \n",
      "=================================================================\n",
      "Total params: 193,323\n",
      "Trainable params: 193,323\n",
      "Non-trainable params: 0\n",
      "_________________________________________________________________\n",
      "None\n"
     ]
    },
    {
     "name": "stderr",
     "output_type": "stream",
     "text": [
      "C:\\Users\\SHIN-DESKTOP\\AppData\\Roaming\\Python\\Python36\\site-packages\\tensorflow\\python\\ops\\gradients_impl.py:100: UserWarning: Converting sparse IndexedSlices to a dense Tensor of unknown shape. This may consume a large amount of memory.\n",
      "  \"Converting sparse IndexedSlices to a dense Tensor of unknown shape. \"\n"
     ]
    },
    {
     "name": "stdout",
     "output_type": "stream",
     "text": [
      "Train on 7695 samples, validate on 856 samples\n",
      "Epoch 1/50\n",
      "7695/7695 [==============================] - 13s 2ms/step - loss: 0.6092 - acc: 0.7014 - val_loss: 0.6045 - val_acc: 0.7056\n",
      "Epoch 2/50\n",
      "7695/7695 [==============================] - 12s 2ms/step - loss: 0.6020 - acc: 0.7042 - val_loss: 0.6021 - val_acc: 0.7056\n",
      "Epoch 3/50\n",
      "7695/7695 [==============================] - 12s 2ms/step - loss: 0.5824 - acc: 0.7064 - val_loss: 0.6133 - val_acc: 0.7044\n",
      "Epoch 4/50\n",
      "7695/7695 [==============================] - 11s 1ms/step - loss: 0.5425 - acc: 0.7261 - val_loss: 0.6201 - val_acc: 0.6799\n",
      "Epoch 5/50\n",
      "7695/7695 [==============================] - 12s 2ms/step - loss: 0.4974 - acc: 0.7530 - val_loss: 0.6719 - val_acc: 0.6297\n",
      "Epoch 6/50\n",
      "7695/7695 [==============================] - 12s 2ms/step - loss: 0.4520 - acc: 0.7754 - val_loss: 0.6743 - val_acc: 0.6449\n",
      "Epoch 7/50\n",
      "7695/7695 [==============================] - 12s 1ms/step - loss: 0.4146 - acc: 0.7964 - val_loss: 0.7285 - val_acc: 0.6577\n",
      "Epoch 8/50\n",
      "7695/7695 [==============================] - 11s 1ms/step - loss: 0.3864 - acc: 0.8107 - val_loss: 0.7712 - val_acc: 0.6262\n",
      "Epoch 9/50\n",
      "7695/7695 [==============================] - 11s 1ms/step - loss: 0.3534 - acc: 0.8320 - val_loss: 0.7856 - val_acc: 0.6507\n",
      "Epoch 10/50\n",
      "7695/7695 [==============================] - 11s 1ms/step - loss: 0.3313 - acc: 0.8413 - val_loss: 0.8758 - val_acc: 0.6297\n",
      "Epoch 11/50\n",
      "7695/7695 [==============================] - 11s 1ms/step - loss: 0.3101 - acc: 0.8530 - val_loss: 0.9265 - val_acc: 0.6063\n",
      "Epoch 12/50\n",
      "7695/7695 [==============================] - 11s 1ms/step - loss: 0.2913 - acc: 0.8613 - val_loss: 0.9686 - val_acc: 0.6121\n",
      "Epoch 13/50\n",
      "7695/7695 [==============================] - 11s 1ms/step - loss: 0.2787 - acc: 0.8674 - val_loss: 0.9602 - val_acc: 0.6367\n",
      "Epoch 14/50\n",
      "7695/7695 [==============================] - 11s 1ms/step - loss: 0.2652 - acc: 0.8771 - val_loss: 1.0556 - val_acc: 0.6192\n",
      "Epoch 15/50\n",
      "7695/7695 [==============================] - 12s 2ms/step - loss: 0.2537 - acc: 0.8781 - val_loss: 1.1218 - val_acc: 0.6157\n",
      "Epoch 16/50\n",
      "7695/7695 [==============================] - 12s 2ms/step - loss: 0.2384 - acc: 0.8876 - val_loss: 1.1543 - val_acc: 0.5981\n",
      "Epoch 17/50\n",
      "7695/7695 [==============================] - 12s 2ms/step - loss: 0.2281 - acc: 0.8929 - val_loss: 1.2785 - val_acc: 0.6215\n",
      "Epoch 18/50\n",
      "7695/7695 [==============================] - 12s 2ms/step - loss: 0.2229 - acc: 0.8956 - val_loss: 1.2523 - val_acc: 0.5946\n",
      "Epoch 19/50\n",
      "7695/7695 [==============================] - 11s 1ms/step - loss: 0.2131 - acc: 0.9041 - val_loss: 1.2495 - val_acc: 0.5900\n",
      "Epoch 20/50\n",
      "7695/7695 [==============================] - 12s 2ms/step - loss: 0.2044 - acc: 0.9058 - val_loss: 1.4026 - val_acc: 0.5853\n",
      "Epoch 21/50\n",
      "7695/7695 [==============================] - 11s 1ms/step - loss: 0.1973 - acc: 0.9124 - val_loss: 1.3940 - val_acc: 0.6145\n",
      "Epoch 22/50\n",
      "7695/7695 [==============================] - 11s 1ms/step - loss: 0.1898 - acc: 0.9142 - val_loss: 1.4119 - val_acc: 0.6215\n",
      "Epoch 23/50\n",
      "7695/7695 [==============================] - 11s 1ms/step - loss: 0.1824 - acc: 0.9186 - val_loss: 1.4556 - val_acc: 0.6040\n",
      "Epoch 24/50\n",
      "7695/7695 [==============================] - 11s 1ms/step - loss: 0.1833 - acc: 0.9151 - val_loss: 1.5009 - val_acc: 0.6005\n",
      "Epoch 25/50\n",
      "7695/7695 [==============================] - 12s 2ms/step - loss: 0.1713 - acc: 0.9232 - val_loss: 1.4764 - val_acc: 0.5888\n",
      "Epoch 26/50\n",
      "7695/7695 [==============================] - 11s 1ms/step - loss: 0.1644 - acc: 0.9267 - val_loss: 1.7109 - val_acc: 0.6051\n",
      "Epoch 27/50\n",
      "7695/7695 [==============================] - 11s 1ms/step - loss: 0.1605 - acc: 0.9297 - val_loss: 1.6252 - val_acc: 0.5935\n",
      "Epoch 28/50\n",
      "7695/7695 [==============================] - 11s 1ms/step - loss: 0.1554 - acc: 0.9301 - val_loss: 1.7844 - val_acc: 0.5981\n",
      "Epoch 29/50\n",
      "7695/7695 [==============================] - 11s 1ms/step - loss: 0.1474 - acc: 0.9361 - val_loss: 1.8454 - val_acc: 0.6075\n",
      "Epoch 30/50\n",
      "7695/7695 [==============================] - 11s 1ms/step - loss: 0.1454 - acc: 0.9372 - val_loss: 1.8254 - val_acc: 0.5771\n",
      "Epoch 31/50\n",
      "7695/7695 [==============================] - 11s 1ms/step - loss: 0.1437 - acc: 0.9380 - val_loss: 1.8142 - val_acc: 0.5923\n",
      "Epoch 32/50\n",
      "7695/7695 [==============================] - 11s 1ms/step - loss: 0.1259 - acc: 0.9474 - val_loss: 1.8230 - val_acc: 0.6051\n",
      "Epoch 33/50\n",
      "7695/7695 [==============================] - 11s 1ms/step - loss: 0.1241 - acc: 0.9481 - val_loss: 1.8661 - val_acc: 0.6075\n",
      "Epoch 34/50\n",
      "7695/7695 [==============================] - 11s 1ms/step - loss: 0.1179 - acc: 0.9502 - val_loss: 1.9936 - val_acc: 0.5981\n",
      "Epoch 35/50\n",
      "7695/7695 [==============================] - 11s 1ms/step - loss: 0.1155 - acc: 0.9513 - val_loss: 2.0296 - val_acc: 0.6005\n",
      "Epoch 36/50\n",
      "7695/7695 [==============================] - 11s 1ms/step - loss: 0.1039 - acc: 0.9567 - val_loss: 2.0767 - val_acc: 0.6051\n",
      "Epoch 37/50\n",
      "7695/7695 [==============================] - 11s 1ms/step - loss: 0.1052 - acc: 0.9546 - val_loss: 2.0571 - val_acc: 0.5970\n",
      "Epoch 38/50\n",
      "7695/7695 [==============================] - 11s 1ms/step - loss: 0.1014 - acc: 0.9563 - val_loss: 2.1918 - val_acc: 0.5946\n",
      "Epoch 39/50\n",
      "7695/7695 [==============================] - 11s 1ms/step - loss: 0.0969 - acc: 0.9611 - val_loss: 2.2099 - val_acc: 0.5970\n",
      "Epoch 40/50\n",
      "7695/7695 [==============================] - 11s 1ms/step - loss: 0.0890 - acc: 0.9644 - val_loss: 2.2952 - val_acc: 0.6051\n",
      "Epoch 41/50\n",
      "7695/7695 [==============================] - 11s 1ms/step - loss: 0.0910 - acc: 0.9630 - val_loss: 2.2954 - val_acc: 0.5946\n",
      "Epoch 42/50\n",
      "7695/7695 [==============================] - 11s 1ms/step - loss: 0.0834 - acc: 0.9660 - val_loss: 2.3495 - val_acc: 0.5958\n",
      "Epoch 43/50\n",
      "7695/7695 [==============================] - 11s 1ms/step - loss: 0.0834 - acc: 0.9671 - val_loss: 2.3505 - val_acc: 0.6110\n",
      "Epoch 44/50\n",
      "7695/7695 [==============================] - 11s 1ms/step - loss: 0.0731 - acc: 0.9713 - val_loss: 2.4423 - val_acc: 0.5970\n",
      "Epoch 45/50\n",
      "7695/7695 [==============================] - 11s 1ms/step - loss: 0.0693 - acc: 0.9732 - val_loss: 2.4563 - val_acc: 0.6028\n",
      "Epoch 46/50\n",
      "7695/7695 [==============================] - 11s 1ms/step - loss: 0.0708 - acc: 0.9713 - val_loss: 2.5006 - val_acc: 0.6040\n",
      "Epoch 47/50\n",
      "7695/7695 [==============================] - 11s 1ms/step - loss: 0.0629 - acc: 0.9745 - val_loss: 2.5683 - val_acc: 0.5923\n",
      "Epoch 48/50\n",
      "7695/7695 [==============================] - 11s 1ms/step - loss: 0.0626 - acc: 0.9752 - val_loss: 2.5029 - val_acc: 0.6227\n",
      "Epoch 49/50\n",
      "7695/7695 [==============================] - 11s 1ms/step - loss: 0.0621 - acc: 0.9739 - val_loss: 2.7127 - val_acc: 0.6005\n",
      "Epoch 50/50\n",
      "7695/7695 [==============================] - 11s 1ms/step - loss: 0.0567 - acc: 0.9765 - val_loss: 2.7025 - val_acc: 0.6133\n"
     ]
    }
   ],
   "source": [
    "from tensorflow.keras.models import Sequential\n",
    "from tensorflow.keras.layers import Embedding, Dense, SimpleRNN\n",
    "\n",
    "lstm_model = Sequential()\n",
    "lstm_model.add(Embedding(vocab_size, 32, input_length=max_len))\n",
    "lstm_model.add(LSTM(50))\n",
    "lstm_model.add(Dense(1, activation='sigmoid'))\n",
    "lstm_model.compile(loss='binary_crossentropy', optimizer='adam', metrics=['accuracy'])\n",
    "print(lstm_model.summary())\n",
    "hist = lstm_model.fit(x_train, y_train, validation_data=(x_valid, y_valid), epochs=50, batch_size=64)"
   ]
  },
  {
   "cell_type": "code",
   "execution_count": 22,
   "metadata": {},
   "outputs": [
    {
     "name": "stdout",
     "output_type": "stream",
     "text": [
      "Accuracy: 61.33%\n"
     ]
    }
   ],
   "source": [
    "# Final evaluation of the model\n",
    "scores = lstm_model.evaluate(x_valid, y_valid, verbose=0)\n",
    "print(\"Accuracy: %.2f%%\" % (scores[1]*100))"
   ]
  },
  {
   "cell_type": "code",
   "execution_count": null,
   "metadata": {},
   "outputs": [],
   "source": []
  }
 ],
 "metadata": {
  "kernelspec": {
   "display_name": "Python 3",
   "language": "python",
   "name": "python3"
  },
  "language_info": {
   "codemirror_mode": {
    "name": "ipython",
    "version": 3
   },
   "file_extension": ".py",
   "mimetype": "text/x-python",
   "name": "python",
   "nbconvert_exporter": "python",
   "pygments_lexer": "ipython3",
   "version": "3.6.8"
  }
 },
 "nbformat": 4,
 "nbformat_minor": 2
}
