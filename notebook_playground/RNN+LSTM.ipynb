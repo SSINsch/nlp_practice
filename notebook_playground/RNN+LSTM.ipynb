{
 "cells": [
  {
   "cell_type": "markdown",
   "metadata": {},
   "source": [
    "# 간단한 RNN으로 텍스트 생성하기\n",
    "------------------------------\n",
    "reference: [RNN을 이용한 텍스트 생성](wikidocs.net/45101)"
   ]
  },
  {
   "cell_type": "markdown",
   "metadata": {},
   "source": [
    "## 데이터 전처리"
   ]
  },
  {
   "cell_type": "code",
   "execution_count": 1,
   "metadata": {},
   "outputs": [],
   "source": [
    "from tensorflow.keras.preprocessing.text import Tokenizer\n",
    "from tensorflow.keras.preprocessing.sequence import pad_sequences\n",
    "import numpy as np\n",
    "from tensorflow.keras.utils import to_categorical\n",
    "\n",
    "text=\"경마장에 있는 말이 뛰고 있다\\n그의 말이 법이다\\n가는 말이 고와야 오는 말이 곱다\\n\""
   ]
  },
  {
   "cell_type": "code",
   "execution_count": 2,
   "metadata": {},
   "outputs": [
    {
     "name": "stdout",
     "output_type": "stream",
     "text": [
      "단어 집합의 크기 : 12\n",
      "{'말이': 1, '경마장에': 2, '있는': 3, '뛰고': 4, '있다': 5, '그의': 6, '법이다': 7, '가는': 8, '고와야': 9, '오는': 10, '곱다': 11}\n"
     ]
    }
   ],
   "source": [
    "t = Tokenizer()\n",
    "t.fit_on_texts([text])\n",
    "vocab_size = len(t.word_index) + 1\n",
    "print('단어 집합의 크기 : {}'.format(vocab_size))\n",
    "print(t.word_index)"
   ]
  },
  {
   "cell_type": "markdown",
   "metadata": {},
   "source": [
    "훈련 데이터로 재구성"
   ]
  },
  {
   "cell_type": "code",
   "execution_count": 3,
   "metadata": {},
   "outputs": [
    {
     "name": "stdout",
     "output_type": "stream",
     "text": [
      "['경마장에 있는 말이 뛰고 있다', '그의 말이 법이다', '가는 말이 고와야 오는 말이 곱다', '']\n",
      "[2, 3, 1, 4, 5]\n",
      "[6, 1, 7]\n",
      "[8, 1, 9, 10, 1, 11]\n",
      "[]\n",
      "학습에 사용할 샘플의 개수: 11\n",
      "[[2, 3], [2, 3, 1], [2, 3, 1, 4], [2, 3, 1, 4, 5], [6, 1], [6, 1, 7], [8, 1], [8, 1, 9], [8, 1, 9, 10], [8, 1, 9, 10, 1], [8, 1, 9, 10, 1, 11]]\n"
     ]
    }
   ],
   "source": [
    "sequences = []\n",
    "\n",
    "# 줄바꿈을 기준으로 문장 토큰화\n",
    "print(text.split('\\n'))\n",
    "for line in text.split('\\n'):\n",
    "    encoded = t.texts_to_sequences([line])[0]\n",
    "    print(encoded)\n",
    "    for i in range(1, len(encoded)):\n",
    "        sequence = encoded[:i+1]\n",
    "        sequences.append(sequence)\n",
    "\n",
    "print('학습에 사용할 샘플의 개수: {}'.format(len(sequences)))\n",
    "print(sequences)"
   ]
  },
  {
   "cell_type": "markdown",
   "metadata": {},
   "source": [
    "학습에 사용할 샘플은 길이가 6으로 가장 길다. 전체 샘플을 6으로 패딩해준다."
   ]
  },
  {
   "cell_type": "code",
   "execution_count": 4,
   "metadata": {},
   "outputs": [
    {
     "name": "stdout",
     "output_type": "stream",
     "text": [
      "[[ 0  0  0  0  2  3]\n",
      " [ 0  0  0  2  3  1]\n",
      " [ 0  0  2  3  1  4]\n",
      " [ 0  2  3  1  4  5]\n",
      " [ 0  0  0  0  6  1]\n",
      " [ 0  0  0  6  1  7]\n",
      " [ 0  0  0  0  8  1]\n",
      " [ 0  0  0  8  1  9]\n",
      " [ 0  0  8  1  9 10]\n",
      " [ 0  8  1  9 10  1]\n",
      " [ 8  1  9 10  1 11]]\n"
     ]
    }
   ],
   "source": [
    "# 길이 6으로 패딩\n",
    "max_len=max(len(l) for l in sequences)\n",
    "sequences = pad_sequences(sequences, maxlen=max_len, padding='pre')\n",
    "print(sequences)"
   ]
  },
  {
   "cell_type": "markdown",
   "metadata": {},
   "source": [
    "학습 진행을 위해 훈련 데이터를 x, y로 분리하자."
   ]
  },
  {
   "cell_type": "code",
   "execution_count": 5,
   "metadata": {
    "scrolled": true
   },
   "outputs": [
    {
     "name": "stdout",
     "output_type": "stream",
     "text": [
      "[[ 0  0  0  0  2]\n",
      " [ 0  0  0  2  3]\n",
      " [ 0  0  2  3  1]\n",
      " [ 0  2  3  1  4]\n",
      " [ 0  0  0  0  6]\n",
      " [ 0  0  0  6  1]\n",
      " [ 0  0  0  0  8]\n",
      " [ 0  0  0  8  1]\n",
      " [ 0  0  8  1  9]\n",
      " [ 0  8  1  9 10]\n",
      " [ 8  1  9 10  1]]\n",
      "[[0. 0. 0. 1. 0. 0. 0. 0. 0. 0. 0. 0.]\n",
      " [0. 1. 0. 0. 0. 0. 0. 0. 0. 0. 0. 0.]\n",
      " [0. 0. 0. 0. 1. 0. 0. 0. 0. 0. 0. 0.]\n",
      " [0. 0. 0. 0. 0. 1. 0. 0. 0. 0. 0. 0.]\n",
      " [0. 1. 0. 0. 0. 0. 0. 0. 0. 0. 0. 0.]\n",
      " [0. 0. 0. 0. 0. 0. 0. 1. 0. 0. 0. 0.]\n",
      " [0. 1. 0. 0. 0. 0. 0. 0. 0. 0. 0. 0.]\n",
      " [0. 0. 0. 0. 0. 0. 0. 0. 0. 1. 0. 0.]\n",
      " [0. 0. 0. 0. 0. 0. 0. 0. 0. 0. 1. 0.]\n",
      " [0. 1. 0. 0. 0. 0. 0. 0. 0. 0. 0. 0.]\n",
      " [0. 0. 0. 0. 0. 0. 0. 0. 0. 0. 0. 1.]]\n"
     ]
    }
   ],
   "source": [
    "sequences = np.array(sequences)\n",
    "X = sequences[:, :-1]\n",
    "y = sequences[:,-1]\n",
    "# one hot encoding for y\n",
    "y = to_categorical(y, num_classes=vocab_size)\n",
    "print(X)\n",
    "print(y)"
   ]
  },
  {
   "cell_type": "markdown",
   "metadata": {},
   "source": [
    "## 모델 설계하기\n",
    "\n",
    "간단한 RNN 모델을 만들어 학습을 진행하자."
   ]
  },
  {
   "cell_type": "code",
   "execution_count": 6,
   "metadata": {},
   "outputs": [
    {
     "name": "stderr",
     "output_type": "stream",
     "text": [
      "C:\\Users\\SHIN-DESKTOP\\AppData\\Roaming\\Python\\Python36\\site-packages\\tensorflow\\python\\ops\\gradients_impl.py:100: UserWarning: Converting sparse IndexedSlices to a dense Tensor of unknown shape. This may consume a large amount of memory.\n",
      "  \"Converting sparse IndexedSlices to a dense Tensor of unknown shape. \"\n"
     ]
    },
    {
     "name": "stdout",
     "output_type": "stream",
     "text": [
      "Epoch 1/150\n",
      " - 3s - loss: 2.6577 - acc: 0.0909\n",
      "Epoch 2/150\n",
      " - 0s - loss: 2.6107 - acc: 0.0909\n",
      "Epoch 3/150\n",
      " - 0s - loss: 2.5582 - acc: 0.0909\n",
      "Epoch 4/150\n",
      " - 0s - loss: 2.5049 - acc: 0.0909\n",
      "Epoch 5/150\n",
      " - 0s - loss: 2.4525 - acc: 0.2727\n",
      "Epoch 6/150\n",
      " - 0s - loss: 2.4021 - acc: 0.2727\n",
      "Epoch 7/150\n",
      " - 0s - loss: 2.3543 - acc: 0.2727\n",
      "Epoch 8/150\n",
      " - 0s - loss: 2.3092 - acc: 0.3636\n",
      "Epoch 9/150\n",
      " - 0s - loss: 2.2670 - acc: 0.3636\n",
      "Epoch 10/150\n",
      " - 0s - loss: 2.2278 - acc: 0.3636\n",
      "Epoch 11/150\n",
      " - 0s - loss: 2.1913 - acc: 0.3636\n",
      "Epoch 12/150\n",
      " - 0s - loss: 2.1574 - acc: 0.3636\n",
      "Epoch 13/150\n",
      " - 0s - loss: 2.1259 - acc: 0.3636\n",
      "Epoch 14/150\n",
      " - 0s - loss: 2.0966 - acc: 0.3636\n",
      "Epoch 15/150\n",
      " - 0s - loss: 2.0690 - acc: 0.3636\n",
      "Epoch 16/150\n",
      " - 0s - loss: 2.0431 - acc: 0.3636\n",
      "Epoch 17/150\n",
      " - 0s - loss: 2.0185 - acc: 0.3636\n",
      "Epoch 18/150\n",
      " - 0s - loss: 1.9950 - acc: 0.3636\n",
      "Epoch 19/150\n",
      " - 0s - loss: 1.9724 - acc: 0.3636\n",
      "Epoch 20/150\n",
      " - 0s - loss: 1.9504 - acc: 0.3636\n",
      "Epoch 21/150\n",
      " - 0s - loss: 1.9290 - acc: 0.3636\n",
      "Epoch 22/150\n",
      " - 0s - loss: 1.9081 - acc: 0.3636\n",
      "Epoch 23/150\n",
      " - 0s - loss: 1.8874 - acc: 0.3636\n",
      "Epoch 24/150\n",
      " - 0s - loss: 1.8671 - acc: 0.3636\n",
      "Epoch 25/150\n",
      " - 0s - loss: 1.8469 - acc: 0.3636\n",
      "Epoch 26/150\n",
      " - 0s - loss: 1.8270 - acc: 0.3636\n",
      "Epoch 27/150\n",
      " - 0s - loss: 1.8072 - acc: 0.3636\n",
      "Epoch 28/150\n",
      " - 0s - loss: 1.7877 - acc: 0.3636\n",
      "Epoch 29/150\n",
      " - 0s - loss: 1.7682 - acc: 0.3636\n",
      "Epoch 30/150\n",
      " - 0s - loss: 1.7489 - acc: 0.3636\n",
      "Epoch 31/150\n",
      " - 0s - loss: 1.7297 - acc: 0.3636\n",
      "Epoch 32/150\n",
      " - 0s - loss: 1.7105 - acc: 0.3636\n",
      "Epoch 33/150\n",
      " - 0s - loss: 1.6914 - acc: 0.3636\n",
      "Epoch 34/150\n",
      " - 0s - loss: 1.6723 - acc: 0.3636\n",
      "Epoch 35/150\n",
      " - 0s - loss: 1.6531 - acc: 0.3636\n",
      "Epoch 36/150\n",
      " - 0s - loss: 1.6340 - acc: 0.3636\n",
      "Epoch 37/150\n",
      " - 0s - loss: 1.6149 - acc: 0.3636\n",
      "Epoch 38/150\n",
      " - 0s - loss: 1.5957 - acc: 0.3636\n",
      "Epoch 39/150\n",
      " - 0s - loss: 1.5766 - acc: 0.3636\n",
      "Epoch 40/150\n",
      " - 0s - loss: 1.5575 - acc: 0.4545\n",
      "Epoch 41/150\n",
      " - 0s - loss: 1.5384 - acc: 0.5455\n",
      "Epoch 42/150\n",
      " - 0s - loss: 1.5194 - acc: 0.5455\n",
      "Epoch 43/150\n",
      " - 0s - loss: 1.5003 - acc: 0.5455\n",
      "Epoch 44/150\n",
      " - 0s - loss: 1.4813 - acc: 0.5455\n",
      "Epoch 45/150\n",
      " - 0s - loss: 1.4623 - acc: 0.5455\n",
      "Epoch 46/150\n",
      " - 0s - loss: 1.4432 - acc: 0.5455\n",
      "Epoch 47/150\n",
      " - 0s - loss: 1.4241 - acc: 0.5455\n",
      "Epoch 48/150\n",
      " - 0s - loss: 1.4050 - acc: 0.6364\n",
      "Epoch 49/150\n",
      " - 0s - loss: 1.3859 - acc: 0.6364\n",
      "Epoch 50/150\n",
      " - 0s - loss: 1.3668 - acc: 0.7273\n",
      "Epoch 51/150\n",
      " - 0s - loss: 1.3476 - acc: 0.7273\n",
      "Epoch 52/150\n",
      " - 0s - loss: 1.3284 - acc: 0.7273\n",
      "Epoch 53/150\n",
      " - 0s - loss: 1.3093 - acc: 0.7273\n",
      "Epoch 54/150\n",
      " - 0s - loss: 1.2901 - acc: 0.7273\n",
      "Epoch 55/150\n",
      " - 0s - loss: 1.2710 - acc: 0.7273\n",
      "Epoch 56/150\n",
      " - 0s - loss: 1.2519 - acc: 0.7273\n",
      "Epoch 57/150\n",
      " - 0s - loss: 1.2328 - acc: 0.8182\n",
      "Epoch 58/150\n",
      " - 0s - loss: 1.2137 - acc: 0.8182\n",
      "Epoch 59/150\n",
      " - 0s - loss: 1.1947 - acc: 0.8182\n",
      "Epoch 60/150\n",
      " - 0s - loss: 1.1758 - acc: 0.8182\n",
      "Epoch 61/150\n",
      " - 0s - loss: 1.1569 - acc: 0.8182\n",
      "Epoch 62/150\n",
      " - 0s - loss: 1.1381 - acc: 0.8182\n",
      "Epoch 63/150\n",
      " - 0s - loss: 1.1194 - acc: 0.8182\n",
      "Epoch 64/150\n",
      " - 0s - loss: 1.1008 - acc: 0.8182\n",
      "Epoch 65/150\n",
      " - 0s - loss: 1.0823 - acc: 0.8182\n",
      "Epoch 66/150\n",
      " - 0s - loss: 1.0639 - acc: 0.8182\n",
      "Epoch 67/150\n",
      " - 0s - loss: 1.0456 - acc: 0.8182\n",
      "Epoch 68/150\n",
      " - 0s - loss: 1.0275 - acc: 0.8182\n",
      "Epoch 69/150\n",
      " - 0s - loss: 1.0095 - acc: 0.8182\n",
      "Epoch 70/150\n",
      " - 0s - loss: 0.9916 - acc: 0.8182\n",
      "Epoch 71/150\n",
      " - 0s - loss: 0.9739 - acc: 0.8182\n",
      "Epoch 72/150\n",
      " - 0s - loss: 0.9563 - acc: 0.8182\n",
      "Epoch 73/150\n",
      " - 0s - loss: 0.9389 - acc: 0.8182\n",
      "Epoch 74/150\n",
      " - 0s - loss: 0.9217 - acc: 0.8182\n",
      "Epoch 75/150\n",
      " - 0s - loss: 0.9046 - acc: 0.8182\n",
      "Epoch 76/150\n",
      " - 0s - loss: 0.8878 - acc: 0.8182\n",
      "Epoch 77/150\n",
      " - 0s - loss: 0.8711 - acc: 0.8182\n",
      "Epoch 78/150\n",
      " - 0s - loss: 0.8546 - acc: 0.8182\n",
      "Epoch 79/150\n",
      " - 0s - loss: 0.8383 - acc: 0.8182\n",
      "Epoch 80/150\n",
      " - 0s - loss: 0.8222 - acc: 0.8182\n",
      "Epoch 81/150\n",
      " - 0s - loss: 0.8063 - acc: 0.8182\n",
      "Epoch 82/150\n",
      " - 0s - loss: 0.7906 - acc: 0.8182\n",
      "Epoch 83/150\n",
      " - 0s - loss: 0.7752 - acc: 0.8182\n",
      "Epoch 84/150\n",
      " - 0s - loss: 0.7600 - acc: 0.8182\n",
      "Epoch 85/150\n",
      " - 0s - loss: 0.7450 - acc: 0.8182\n",
      "Epoch 86/150\n",
      " - 0s - loss: 0.7302 - acc: 0.8182\n",
      "Epoch 87/150\n",
      " - 0s - loss: 0.7158 - acc: 0.8182\n",
      "Epoch 88/150\n",
      " - 0s - loss: 0.7015 - acc: 0.8182\n",
      "Epoch 89/150\n",
      " - 0s - loss: 0.6875 - acc: 0.8182\n",
      "Epoch 90/150\n",
      " - 0s - loss: 0.6738 - acc: 0.8182\n",
      "Epoch 91/150\n",
      " - 0s - loss: 0.6603 - acc: 0.8182\n",
      "Epoch 92/150\n",
      " - 0s - loss: 0.6470 - acc: 0.8182\n",
      "Epoch 93/150\n",
      " - 0s - loss: 0.6341 - acc: 0.8182\n",
      "Epoch 94/150\n",
      " - 0s - loss: 0.6214 - acc: 0.9091\n",
      "Epoch 95/150\n",
      " - 0s - loss: 0.6089 - acc: 0.9091\n",
      "Epoch 96/150\n",
      " - 0s - loss: 0.5967 - acc: 0.9091\n",
      "Epoch 97/150\n",
      " - 0s - loss: 0.5848 - acc: 0.9091\n",
      "Epoch 98/150\n",
      " - 0s - loss: 0.5731 - acc: 0.9091\n",
      "Epoch 99/150\n",
      " - 0s - loss: 0.5617 - acc: 0.9091\n",
      "Epoch 100/150\n",
      " - 0s - loss: 0.5505 - acc: 0.9091\n",
      "Epoch 101/150\n",
      " - 0s - loss: 0.5395 - acc: 0.9091\n",
      "Epoch 102/150\n",
      " - 0s - loss: 0.5289 - acc: 0.9091\n",
      "Epoch 103/150\n",
      " - 0s - loss: 0.5184 - acc: 0.9091\n",
      "Epoch 104/150\n",
      " - 0s - loss: 0.5082 - acc: 0.9091\n",
      "Epoch 105/150\n",
      " - 0s - loss: 0.4983 - acc: 0.9091\n",
      "Epoch 106/150\n",
      " - 0s - loss: 0.4885 - acc: 0.9091\n",
      "Epoch 107/150\n",
      " - 0s - loss: 0.4790 - acc: 0.9091\n",
      "Epoch 108/150\n",
      " - 0s - loss: 0.4697 - acc: 0.9091\n",
      "Epoch 109/150\n",
      " - 0s - loss: 0.4607 - acc: 0.9091\n",
      "Epoch 110/150\n",
      " - 0s - loss: 0.4518 - acc: 0.9091\n",
      "Epoch 111/150\n",
      " - 0s - loss: 0.4431 - acc: 0.9091\n",
      "Epoch 112/150\n",
      " - 0s - loss: 0.4347 - acc: 0.9091\n",
      "Epoch 113/150\n",
      " - 0s - loss: 0.4264 - acc: 0.9091\n",
      "Epoch 114/150\n",
      " - 0s - loss: 0.4184 - acc: 0.9091\n",
      "Epoch 115/150\n",
      " - 0s - loss: 0.4105 - acc: 1.0000\n",
      "Epoch 116/150\n",
      " - 0s - loss: 0.4028 - acc: 1.0000\n",
      "Epoch 117/150\n",
      " - 0s - loss: 0.3953 - acc: 1.0000\n",
      "Epoch 118/150\n",
      " - 0s - loss: 0.3880 - acc: 1.0000\n",
      "Epoch 119/150\n",
      " - 0s - loss: 0.3808 - acc: 1.0000\n",
      "Epoch 120/150\n",
      " - 0s - loss: 0.3738 - acc: 1.0000\n",
      "Epoch 121/150\n",
      " - 0s - loss: 0.3670 - acc: 1.0000\n",
      "Epoch 122/150\n",
      " - 0s - loss: 0.3603 - acc: 1.0000\n",
      "Epoch 123/150\n",
      " - 0s - loss: 0.3538 - acc: 1.0000\n",
      "Epoch 124/150\n",
      " - 0s - loss: 0.3474 - acc: 1.0000\n",
      "Epoch 125/150\n",
      " - 0s - loss: 0.3412 - acc: 1.0000\n",
      "Epoch 126/150\n",
      " - 0s - loss: 0.3351 - acc: 1.0000\n",
      "Epoch 127/150\n",
      " - 0s - loss: 0.3291 - acc: 1.0000\n",
      "Epoch 128/150\n",
      " - 0s - loss: 0.3233 - acc: 1.0000\n",
      "Epoch 129/150\n",
      " - 0s - loss: 0.3176 - acc: 1.0000\n",
      "Epoch 130/150\n",
      " - 0s - loss: 0.3121 - acc: 1.0000\n",
      "Epoch 131/150\n",
      " - 0s - loss: 0.3066 - acc: 1.0000\n",
      "Epoch 132/150\n",
      " - 0s - loss: 0.3013 - acc: 1.0000\n",
      "Epoch 133/150\n",
      " - 0s - loss: 0.2961 - acc: 1.0000\n",
      "Epoch 134/150\n",
      " - 0s - loss: 0.2910 - acc: 1.0000\n",
      "Epoch 135/150\n",
      " - 0s - loss: 0.2860 - acc: 1.0000\n",
      "Epoch 136/150\n",
      " - 0s - loss: 0.2812 - acc: 1.0000\n",
      "Epoch 137/150\n",
      " - 0s - loss: 0.2764 - acc: 1.0000\n",
      "Epoch 138/150\n",
      " - 0s - loss: 0.2717 - acc: 1.0000\n",
      "Epoch 139/150\n",
      " - 0s - loss: 0.2672 - acc: 1.0000\n",
      "Epoch 140/150\n",
      " - 0s - loss: 0.2627 - acc: 1.0000\n",
      "Epoch 141/150\n",
      " - 0s - loss: 0.2584 - acc: 1.0000\n",
      "Epoch 142/150\n",
      " - 0s - loss: 0.2541 - acc: 1.0000\n",
      "Epoch 143/150\n",
      " - 0s - loss: 0.2499 - acc: 1.0000\n",
      "Epoch 144/150\n",
      " - 0s - loss: 0.2458 - acc: 1.0000\n",
      "Epoch 145/150\n",
      " - 0s - loss: 0.2418 - acc: 1.0000\n",
      "Epoch 146/150\n",
      " - 0s - loss: 0.2379 - acc: 1.0000\n",
      "Epoch 147/150\n",
      " - 0s - loss: 0.2340 - acc: 1.0000\n",
      "Epoch 148/150\n",
      " - 0s - loss: 0.2302 - acc: 1.0000\n",
      "Epoch 149/150\n",
      " - 0s - loss: 0.2266 - acc: 1.0000\n",
      "Epoch 150/150\n",
      " - 0s - loss: 0.2229 - acc: 1.0000\n"
     ]
    },
    {
     "data": {
      "text/plain": [
       "<tensorflow.python.keras.callbacks.History at 0x203998e6630>"
      ]
     },
     "execution_count": 6,
     "metadata": {},
     "output_type": "execute_result"
    }
   ],
   "source": [
    "from tensorflow.keras.models import Sequential\n",
    "from tensorflow.keras.layers import Embedding, Dense, SimpleRNN\n",
    "\n",
    "rnn_model = Sequential()\n",
    "# y를 분리해내었으므로 input_length=max_len-1 로 줄었다\n",
    "rnn_model.add(Embedding(vocab_size, 10, input_length=max_len-1))\n",
    "# 32 hidden state를 가지는 바닐라 RNN\n",
    "rnn_model.add(SimpleRNN(32))\n",
    "rnn_model.add(Dense(vocab_size, activation='softmax'))\n",
    "rnn_model.compile(loss='categorical_crossentropy', optimizer='adam', metrics=['accuracy'])\n",
    "rnn_model.fit(X, y, epochs=150, verbose=2)"
   ]
  },
  {
   "cell_type": "markdown",
   "metadata": {},
   "source": [
    "학습 결과를 알아보기 위해 간단한 문장을 출력하는 함수를 만들어본다."
   ]
  },
  {
   "cell_type": "code",
   "execution_count": 28,
   "metadata": {},
   "outputs": [],
   "source": [
    "def sentence_generation(model, t, current_word, n, max_len): \n",
    "    # 처음 들어온 단어도 마지막에 같이 출력하기위해 저장\n",
    "    init_word = current_word \n",
    "    sentence = ''\n",
    "    for _ in range(n):\n",
    "        # 현재 단어에 대한 정수 인코딩\n",
    "        encoded = t.texts_to_sequences([current_word])[0]\n",
    "        encoded = pad_sequences([encoded], maxlen=max_len-1, padding='pre')\n",
    "        # 입력한 X(현재 단어)에 대해서 Y를 예측하고 Y(예측한 단어)를 result에 저장.\n",
    "        result = model.predict_classes(encoded, verbose=0)\n",
    "        for word, index in t.word_index.items():\n",
    "            # 만약 예측한 단어와 인덱스와 동일한 단어가 있다면\n",
    "            # 해당 단어가 예측 단어이므로 break\n",
    "            if index == result: \n",
    "                break\n",
    "        # 현재 단어 + ' ' + 예측 단어를 현재 단어로 변경\n",
    "        current_word = current_word + ' '  + word\n",
    "        sentence = sentence + ' ' + word \n",
    "\n",
    "    sentence = init_word + sentence\n",
    "    return sentence"
   ]
  },
  {
   "cell_type": "markdown",
   "metadata": {},
   "source": [
    "예측횟수를 적절히 주면 제대로 된 출력결과는 아래와 같다."
   ]
  },
  {
   "cell_type": "code",
   "execution_count": 9,
   "metadata": {},
   "outputs": [
    {
     "name": "stdout",
     "output_type": "stream",
     "text": [
      "encoded word: [[0 0 0 0 2]]\n",
      "predicted word: [3]\n",
      "encoded word: [[0 0 0 2 3]]\n",
      "predicted word: [1]\n",
      "encoded word: [[0 0 2 3 1]]\n",
      "predicted word: [4]\n",
      "encoded word: [[0 2 3 1 4]]\n",
      "predicted word: [5]\n",
      "경마장에 있는 말이 뛰고 있다\n",
      "encoded word: [[0 0 0 0 6]]\n",
      "predicted word: [1]\n",
      "encoded word: [[0 0 0 6 1]]\n",
      "predicted word: [7]\n",
      "그의 말이 법이다\n",
      "encoded word: [[0 0 0 0 8]]\n",
      "predicted word: [1]\n",
      "encoded word: [[0 0 0 8 1]]\n",
      "predicted word: [9]\n",
      "encoded word: [[0 0 8 1 9]]\n",
      "predicted word: [10]\n",
      "encoded word: [[ 0  8  1  9 10]]\n",
      "predicted word: [1]\n",
      "encoded word: [[ 8  1  9 10  1]]\n",
      "predicted word: [11]\n",
      "가는 말이 고와야 오는 말이 곱다\n"
     ]
    }
   ],
   "source": [
    "print(sentence_generation(rnn_model, t, '경마장에', 4, max_len))\n",
    "print(sentence_generation(rnn_model, t, '그의', 2, max_len))\n",
    "print(sentence_generation(rnn_model, t, '가는', 5, max_len))"
   ]
  },
  {
   "cell_type": "markdown",
   "metadata": {},
   "source": [
    "예측횟수를 기존 문장보다 많이 주거나, 사전에 학습하지 않은 단어를 주었을 때의 결과이다."
   ]
  },
  {
   "cell_type": "code",
   "execution_count": 10,
   "metadata": {},
   "outputs": [
    {
     "name": "stdout",
     "output_type": "stream",
     "text": [
      "encoded word: [[0 0 0 0 2]]\n",
      "predicted word: [3]\n",
      "encoded word: [[0 0 0 2 3]]\n",
      "predicted word: [1]\n",
      "encoded word: [[0 0 2 3 1]]\n",
      "predicted word: [4]\n",
      "encoded word: [[0 2 3 1 4]]\n",
      "predicted word: [5]\n",
      "encoded word: [[2 3 1 4 5]]\n",
      "predicted word: [11]\n",
      "경마장에 있는 말이 뛰고 있다 곱다\n",
      "encoded word: [[0 0 0 0 6]]\n",
      "predicted word: [1]\n",
      "encoded word: [[0 0 0 6 1]]\n",
      "predicted word: [7]\n",
      "encoded word: [[0 0 6 1 7]]\n",
      "predicted word: [11]\n",
      "그의 말이 법이다 곱다\n",
      "encoded word: [[0 0 0 0 8]]\n",
      "predicted word: [1]\n",
      "encoded word: [[0 0 0 8 1]]\n",
      "predicted word: [9]\n",
      "encoded word: [[0 0 8 1 9]]\n",
      "predicted word: [10]\n",
      "encoded word: [[ 0  8  1  9 10]]\n",
      "predicted word: [1]\n",
      "encoded word: [[ 8  1  9 10  1]]\n",
      "predicted word: [11]\n",
      "encoded word: [[ 1  9 10  1 11]]\n",
      "predicted word: [7]\n",
      "가는 말이 고와야 오는 말이 곱다 법이다\n",
      "encoded word: [[0 0 0 0 0]]\n",
      "predicted word: [1]\n",
      "encoded word: [[0 0 0 0 1]]\n",
      "predicted word: [1]\n",
      "encoded word: [[0 0 0 1 1]]\n",
      "predicted word: [7]\n",
      "그녀의 말이 말이 법이다\n"
     ]
    }
   ],
   "source": [
    "print(sentence_generation(rnn_model, t, '경마장에', 5, max_len))\n",
    "print(sentence_generation(rnn_model, t, '그의', 3, max_len))\n",
    "print(sentence_generation(rnn_model, t, '가는', 6, max_len))\n",
    "print(sentence_generation(rnn_model, t, '그녀의', 3, max_len))"
   ]
  },
  {
   "cell_type": "markdown",
   "metadata": {},
   "source": [
    "# LSTM을 이용하여 텍스트 생성하기\n",
    "----------------------------------"
   ]
  },
  {
   "cell_type": "markdown",
   "metadata": {},
   "source": [
    "## 데이터 전처리"
   ]
  },
  {
   "cell_type": "code",
   "execution_count": 11,
   "metadata": {},
   "outputs": [],
   "source": [
    "import pandas as pd\n",
    "from string import punctuation\n",
    "from tensorflow.keras.preprocessing.text import Tokenizer\n",
    "from tensorflow.keras.preprocessing.sequence import pad_sequences\n",
    "import numpy as np\n",
    "from tensorflow.keras.utils import to_categorical"
   ]
  },
  {
   "cell_type": "code",
   "execution_count": 12,
   "metadata": {},
   "outputs": [
    {
     "data": {
      "text/html": [
       "<div>\n",
       "<style scoped>\n",
       "    .dataframe tbody tr th:only-of-type {\n",
       "        vertical-align: middle;\n",
       "    }\n",
       "\n",
       "    .dataframe tbody tr th {\n",
       "        vertical-align: top;\n",
       "    }\n",
       "\n",
       "    .dataframe thead th {\n",
       "        text-align: right;\n",
       "    }\n",
       "</style>\n",
       "<table border=\"1\" class=\"dataframe\">\n",
       "  <thead>\n",
       "    <tr style=\"text-align: right;\">\n",
       "      <th></th>\n",
       "      <th>articleID</th>\n",
       "      <th>articleWordCount</th>\n",
       "      <th>byline</th>\n",
       "      <th>documentType</th>\n",
       "      <th>headline</th>\n",
       "      <th>keywords</th>\n",
       "      <th>multimedia</th>\n",
       "      <th>newDesk</th>\n",
       "      <th>printPage</th>\n",
       "      <th>pubDate</th>\n",
       "      <th>sectionName</th>\n",
       "      <th>snippet</th>\n",
       "      <th>source</th>\n",
       "      <th>typeOfMaterial</th>\n",
       "      <th>webURL</th>\n",
       "    </tr>\n",
       "  </thead>\n",
       "  <tbody>\n",
       "    <tr>\n",
       "      <th>0</th>\n",
       "      <td>5adf6684068401528a2aa69b</td>\n",
       "      <td>781</td>\n",
       "      <td>By JOHN BRANCH</td>\n",
       "      <td>article</td>\n",
       "      <td>Former N.F.L. Cheerleaders’ Settlement Offer: ...</td>\n",
       "      <td>['Workplace Hazards and Violations', 'Football...</td>\n",
       "      <td>68</td>\n",
       "      <td>Sports</td>\n",
       "      <td>0</td>\n",
       "      <td>2018-04-24 17:16:49</td>\n",
       "      <td>Pro Football</td>\n",
       "      <td>“I understand that they could meet with us, pa...</td>\n",
       "      <td>The New York Times</td>\n",
       "      <td>News</td>\n",
       "      <td>https://www.nytimes.com/2018/04/24/sports/foot...</td>\n",
       "    </tr>\n",
       "    <tr>\n",
       "      <th>1</th>\n",
       "      <td>5adf653f068401528a2aa697</td>\n",
       "      <td>656</td>\n",
       "      <td>By LISA FRIEDMAN</td>\n",
       "      <td>article</td>\n",
       "      <td>E.P.A. to Unveil a New Rule. Its Effect: Less ...</td>\n",
       "      <td>['Environmental Protection Agency', 'Pruitt, S...</td>\n",
       "      <td>68</td>\n",
       "      <td>Climate</td>\n",
       "      <td>0</td>\n",
       "      <td>2018-04-24 17:11:21</td>\n",
       "      <td>Unknown</td>\n",
       "      <td>The agency plans to publish a new regulation T...</td>\n",
       "      <td>The New York Times</td>\n",
       "      <td>News</td>\n",
       "      <td>https://www.nytimes.com/2018/04/24/climate/epa...</td>\n",
       "    </tr>\n",
       "    <tr>\n",
       "      <th>2</th>\n",
       "      <td>5adf4626068401528a2aa628</td>\n",
       "      <td>2427</td>\n",
       "      <td>By PETE WELLS</td>\n",
       "      <td>article</td>\n",
       "      <td>The New Noma, Explained</td>\n",
       "      <td>['Restaurants', 'Noma (Copenhagen, Restaurant)...</td>\n",
       "      <td>66</td>\n",
       "      <td>Dining</td>\n",
       "      <td>0</td>\n",
       "      <td>2018-04-24 14:58:44</td>\n",
       "      <td>Unknown</td>\n",
       "      <td>What’s it like to eat at the second incarnatio...</td>\n",
       "      <td>The New York Times</td>\n",
       "      <td>News</td>\n",
       "      <td>https://www.nytimes.com/2018/04/24/dining/noma...</td>\n",
       "    </tr>\n",
       "    <tr>\n",
       "      <th>3</th>\n",
       "      <td>5adf40d2068401528a2aa619</td>\n",
       "      <td>626</td>\n",
       "      <td>By JULIE HIRSCHFELD DAVIS and PETER BAKER</td>\n",
       "      <td>article</td>\n",
       "      <td>Unknown</td>\n",
       "      <td>['Macron, Emmanuel (1977- )', 'Trump, Donald J...</td>\n",
       "      <td>68</td>\n",
       "      <td>Washington</td>\n",
       "      <td>0</td>\n",
       "      <td>2018-04-24 14:35:57</td>\n",
       "      <td>Europe</td>\n",
       "      <td>President Trump welcomed President Emmanuel Ma...</td>\n",
       "      <td>The New York Times</td>\n",
       "      <td>News</td>\n",
       "      <td>https://www.nytimes.com/2018/04/24/world/europ...</td>\n",
       "    </tr>\n",
       "    <tr>\n",
       "      <th>4</th>\n",
       "      <td>5adf3d64068401528a2aa60f</td>\n",
       "      <td>815</td>\n",
       "      <td>By IAN AUSTEN and DAN BILEFSKY</td>\n",
       "      <td>article</td>\n",
       "      <td>Unknown</td>\n",
       "      <td>['Toronto, Ontario, Attack (April, 2018)', 'Mu...</td>\n",
       "      <td>68</td>\n",
       "      <td>Foreign</td>\n",
       "      <td>0</td>\n",
       "      <td>2018-04-24 14:21:21</td>\n",
       "      <td>Canada</td>\n",
       "      <td>Alek Minassian, 25, a resident of Toronto’s Ri...</td>\n",
       "      <td>The New York Times</td>\n",
       "      <td>News</td>\n",
       "      <td>https://www.nytimes.com/2018/04/24/world/canad...</td>\n",
       "    </tr>\n",
       "  </tbody>\n",
       "</table>\n",
       "</div>"
      ],
      "text/plain": [
       "                  articleID  articleWordCount  \\\n",
       "0  5adf6684068401528a2aa69b               781   \n",
       "1  5adf653f068401528a2aa697               656   \n",
       "2  5adf4626068401528a2aa628              2427   \n",
       "3  5adf40d2068401528a2aa619               626   \n",
       "4  5adf3d64068401528a2aa60f               815   \n",
       "\n",
       "                                      byline documentType  \\\n",
       "0                             By JOHN BRANCH      article   \n",
       "1                           By LISA FRIEDMAN      article   \n",
       "2                              By PETE WELLS      article   \n",
       "3  By JULIE HIRSCHFELD DAVIS and PETER BAKER      article   \n",
       "4             By IAN AUSTEN and DAN BILEFSKY      article   \n",
       "\n",
       "                                            headline  \\\n",
       "0  Former N.F.L. Cheerleaders’ Settlement Offer: ...   \n",
       "1  E.P.A. to Unveil a New Rule. Its Effect: Less ...   \n",
       "2                            The New Noma, Explained   \n",
       "3                                            Unknown   \n",
       "4                                            Unknown   \n",
       "\n",
       "                                            keywords  multimedia     newDesk  \\\n",
       "0  ['Workplace Hazards and Violations', 'Football...          68      Sports   \n",
       "1  ['Environmental Protection Agency', 'Pruitt, S...          68     Climate   \n",
       "2  ['Restaurants', 'Noma (Copenhagen, Restaurant)...          66      Dining   \n",
       "3  ['Macron, Emmanuel (1977- )', 'Trump, Donald J...          68  Washington   \n",
       "4  ['Toronto, Ontario, Attack (April, 2018)', 'Mu...          68     Foreign   \n",
       "\n",
       "   printPage              pubDate   sectionName  \\\n",
       "0          0  2018-04-24 17:16:49  Pro Football   \n",
       "1          0  2018-04-24 17:11:21       Unknown   \n",
       "2          0  2018-04-24 14:58:44       Unknown   \n",
       "3          0  2018-04-24 14:35:57        Europe   \n",
       "4          0  2018-04-24 14:21:21        Canada   \n",
       "\n",
       "                                             snippet              source  \\\n",
       "0  “I understand that they could meet with us, pa...  The New York Times   \n",
       "1  The agency plans to publish a new regulation T...  The New York Times   \n",
       "2  What’s it like to eat at the second incarnatio...  The New York Times   \n",
       "3  President Trump welcomed President Emmanuel Ma...  The New York Times   \n",
       "4  Alek Minassian, 25, a resident of Toronto’s Ri...  The New York Times   \n",
       "\n",
       "  typeOfMaterial                                             webURL  \n",
       "0           News  https://www.nytimes.com/2018/04/24/sports/foot...  \n",
       "1           News  https://www.nytimes.com/2018/04/24/climate/epa...  \n",
       "2           News  https://www.nytimes.com/2018/04/24/dining/noma...  \n",
       "3           News  https://www.nytimes.com/2018/04/24/world/europ...  \n",
       "4           News  https://www.nytimes.com/2018/04/24/world/canad...  "
      ]
     },
     "execution_count": 12,
     "metadata": {},
     "output_type": "execute_result"
    }
   ],
   "source": [
    "df = pd.read_csv('.\\\\nyt-comments\\\\ArticlesApril2018.csv')\n",
    "df.head()"
   ]
  },
  {
   "cell_type": "code",
   "execution_count": 13,
   "metadata": {},
   "outputs": [
    {
     "name": "stdout",
     "output_type": "stream",
     "text": [
      "열의 개수:  15\n",
      "Index(['articleID', 'articleWordCount', 'byline', 'documentType', 'headline',\n",
      "       'keywords', 'multimedia', 'newDesk', 'printPage', 'pubDate',\n",
      "       'sectionName', 'snippet', 'source', 'typeOfMaterial', 'webURL'],\n",
      "      dtype='object')\n"
     ]
    }
   ],
   "source": [
    "print('열의 개수: ',len(df.columns))\n",
    "print(df.columns)"
   ]
  },
  {
   "cell_type": "code",
   "execution_count": 14,
   "metadata": {},
   "outputs": [
    {
     "data": {
      "text/plain": [
       "False"
      ]
     },
     "execution_count": 14,
     "metadata": {},
     "output_type": "execute_result"
    }
   ],
   "source": [
    "# is there any Null value\n",
    "df['headline'].isnull().values.any()"
   ]
  },
  {
   "cell_type": "code",
   "execution_count": 15,
   "metadata": {},
   "outputs": [
    {
     "name": "stdout",
     "output_type": "stream",
     "text": [
      "['Former N.F.L. Cheerleaders’ Settlement Offer: $1 and a Meeting With Goodell', 'E.P.A. to Unveil a New Rule. Its Effect: Less Science in Policymaking.', 'The New Noma, Explained', 'Unknown', 'Unknown']\n"
     ]
    }
   ],
   "source": [
    "# store headline\n",
    "headline = []\n",
    "headline.extend(list(df.headline.values)) \n",
    "print(headline[:5])"
   ]
  },
  {
   "cell_type": "markdown",
   "metadata": {},
   "source": [
    "Null 값은 없지만 unknown 값이 있으므로 이런 노이즈는 미리 제거해주자."
   ]
  },
  {
   "cell_type": "code",
   "execution_count": 16,
   "metadata": {},
   "outputs": [
    {
     "name": "stdout",
     "output_type": "stream",
     "text": [
      "노이즈 제거 전: 1324\n",
      "노이즈 제거 후: 1214\n"
     ]
    },
    {
     "data": {
      "text/plain": [
       "['Former N.F.L. Cheerleaders’ Settlement Offer: $1 and a Meeting With Goodell',\n",
       " 'E.P.A. to Unveil a New Rule. Its Effect: Less Science in Policymaking.',\n",
       " 'The New Noma, Explained',\n",
       " 'How a Bag of Texas Dirt  Became a Times Tradition',\n",
       " 'Is School a Place for Self-Expression?']"
      ]
     },
     "execution_count": 16,
     "metadata": {},
     "output_type": "execute_result"
    }
   ],
   "source": [
    "print('노이즈 제거 전: {}'.format(len(headline)))\n",
    "headline = [n for n in headline if n != \"Unknown\"]\n",
    "print('노이즈 제거 후: {}'.format(len(headline)))\n",
    "headline[:5]"
   ]
  },
  {
   "cell_type": "markdown",
   "metadata": {},
   "source": [
    "다음으로 학습의 효율을 위해 구두점을 제거하고 모든 문자를 소문자로 변경해주자"
   ]
  },
  {
   "cell_type": "code",
   "execution_count": 17,
   "metadata": {},
   "outputs": [
    {
     "data": {
      "text/plain": [
       "['former nfl cheerleaders settlement offer 1 and a meeting with goodell',\n",
       " 'epa to unveil a new rule its effect less science in policymaking',\n",
       " 'the new noma explained',\n",
       " 'how a bag of texas dirt  became a times tradition',\n",
       " 'is school a place for selfexpression']"
      ]
     },
     "execution_count": 17,
     "metadata": {},
     "output_type": "execute_result"
    }
   ],
   "source": [
    "def repreprocessing(s):\n",
    "    s = s.encode(\"utf8\").decode(\"ascii\", 'ignore')\n",
    "    return ''.join(c for c in s if c not in punctuation).lower()\n",
    "\n",
    "text = [repreprocessing(x) for x in headline]\n",
    "text[:5]"
   ]
  },
  {
   "cell_type": "markdown",
   "metadata": {},
   "source": [
    "## 단어 집합 만들기"
   ]
  },
  {
   "cell_type": "code",
   "execution_count": 18,
   "metadata": {},
   "outputs": [
    {
     "name": "stdout",
     "output_type": "stream",
     "text": [
      "LSTM 학습용 단어 집합의 크기: 3494\n"
     ]
    }
   ],
   "source": [
    "t_lstm = Tokenizer()\n",
    "t_lstm.fit_on_texts(text)\n",
    "vocab_size_lstm = len(t_lstm.word_index)+1\n",
    "print('LSTM 학습용 단어 집합의 크기: {}'.format(vocab_size_lstm))"
   ]
  },
  {
   "cell_type": "code",
   "execution_count": 19,
   "metadata": {},
   "outputs": [
    {
     "name": "stdout",
     "output_type": "stream",
     "text": [
      "[[99, 269], [99, 269, 371], [99, 269, 371, 1115], [99, 269, 371, 1115, 582], [99, 269, 371, 1115, 582, 52], [99, 269, 371, 1115, 582, 52, 7], [99, 269, 371, 1115, 582, 52, 7, 2], [99, 269, 371, 1115, 582, 52, 7, 2, 372], [99, 269, 371, 1115, 582, 52, 7, 2, 372, 10], [99, 269, 371, 1115, 582, 52, 7, 2, 372, 10, 1116], [100, 3]]\n"
     ]
    }
   ],
   "source": [
    "sequences = []\n",
    "for line in text:\n",
    "    encoded = t_lstm.texts_to_sequences([line])[0]\n",
    "    for i in range(1, len(encoded)):\n",
    "        sequence = encoded[:i+1]\n",
    "        sequences.append(sequence)\n",
    "        \n",
    "print(sequences[:11])"
   ]
  },
  {
   "cell_type": "markdown",
   "metadata": {},
   "source": [
    "가독성을 위해 단어-정수 변환 사전을 만들어놓자"
   ]
  },
  {
   "cell_type": "code",
   "execution_count": 20,
   "metadata": {},
   "outputs": [
    {
     "name": "stdout",
     "output_type": "stream",
     "text": [
      "No.3: to\n",
      "No.5: in\n"
     ]
    }
   ],
   "source": [
    "index_to_word = {}\n",
    "for key, value in t_lstm.word_index.items():\n",
    "    index_to_word[value] = key\n",
    "print('No.3: {}'.format(index_to_word[3]))\n",
    "print('No.5: {}'.format(index_to_word[5]))"
   ]
  },
  {
   "cell_type": "markdown",
   "metadata": {},
   "source": [
    "이제 전체 샘플 길이를 동일하게 만들고 y를 분리해내자"
   ]
  },
  {
   "cell_type": "code",
   "execution_count": 24,
   "metadata": {},
   "outputs": [
    {
     "name": "stdout",
     "output_type": "stream",
     "text": [
      "샘플의 최대 길이: 24\n",
      "sequences 예시\n",
      "[[   0    0    0    0    0    0    0    0    0    0    0    0    0    0\n",
      "     0    0    0    0    0    0    0    0   99  269]\n",
      " [   0    0    0    0    0    0    0    0    0    0    0    0    0    0\n",
      "     0    0    0    0    0    0    0   99  269  371]\n",
      " [   0    0    0    0    0    0    0    0    0    0    0    0    0    0\n",
      "     0    0    0    0    0    0   99  269  371 1115]]\n",
      "X, y 예시\n",
      "[[  0   0   0   0   0   0   0   0   0   0   0   0   0   0   0   0   0   0\n",
      "    0   0   0   0  99]\n",
      " [  0   0   0   0   0   0   0   0   0   0   0   0   0   0   0   0   0   0\n",
      "    0   0   0  99 269]\n",
      " [  0   0   0   0   0   0   0   0   0   0   0   0   0   0   0   0   0   0\n",
      "    0   0  99 269 371]]\n",
      "[[0. 0. 0. ... 0. 0. 0.]\n",
      " [0. 0. 0. ... 0. 0. 0.]\n",
      " [0. 0. 0. ... 0. 0. 0.]]\n"
     ]
    }
   ],
   "source": [
    "# 최대 길이 측정\n",
    "max_len_lstm = max(len(l) for l in sequences)\n",
    "print('샘플의 최대 길이: {}'.format(max_len_lstm))\n",
    "\n",
    "# 패딩\n",
    "sequences = pad_sequences(sequences, maxlen=max_len_lstm, padding='pre')\n",
    "print('sequences 예시')\n",
    "print(sequences[:3])\n",
    "\n",
    "# y 분리\n",
    "sequences = np.array(sequences)\n",
    "X = sequences[:, :-1]\n",
    "y = sequences[:, -1]\n",
    "y = to_categorical(y, num_classes=vocab_size_lstm)\n",
    "print('X, y 예시')\n",
    "print(X[:3])\n",
    "print(y[:3])"
   ]
  },
  {
   "cell_type": "markdown",
   "metadata": {},
   "source": [
    "## 모델 설계하기\n",
    "\n",
    "각 단어의 임베딩 벡터는 10차원으로, 은닉 상태는 128개로 하는 LSTM 모델을 생성한다."
   ]
  },
  {
   "cell_type": "code",
   "execution_count": 22,
   "metadata": {},
   "outputs": [],
   "source": [
    "from tensorflow.keras.models import Sequential\n",
    "from tensorflow.keras.layers import Embedding, Dense, LSTM"
   ]
  },
  {
   "cell_type": "code",
   "execution_count": 25,
   "metadata": {},
   "outputs": [
    {
     "name": "stdout",
     "output_type": "stream",
     "text": [
      "Epoch 1/100\n",
      " - 15s - loss: 7.6518 - acc: 0.0261\n",
      "Epoch 2/100\n",
      " - 17s - loss: 7.1480 - acc: 0.0282\n",
      "Epoch 3/100\n",
      " - 14s - loss: 7.0591 - acc: 0.0311\n",
      "Epoch 4/100\n",
      " - 17s - loss: 6.9901 - acc: 0.0373\n",
      "Epoch 5/100\n",
      " - 18s - loss: 6.8921 - acc: 0.0433\n",
      "Epoch 6/100\n",
      " - 16s - loss: 6.7461 - acc: 0.0470\n",
      "Epoch 7/100\n",
      " - 17s - loss: 6.5661 - acc: 0.0499\n",
      "Epoch 8/100\n",
      " - 17s - loss: 6.3809 - acc: 0.0519\n",
      "Epoch 9/100\n",
      " - 18s - loss: 6.1941 - acc: 0.0557\n",
      "Epoch 10/100\n",
      " - 16s - loss: 6.0120 - acc: 0.0598\n",
      "Epoch 11/100\n",
      " - 16s - loss: 5.8407 - acc: 0.0647\n",
      "Epoch 12/100\n",
      " - 15s - loss: 5.6763 - acc: 0.0709\n",
      "Epoch 13/100\n",
      " - 12s - loss: 5.5202 - acc: 0.0746\n",
      "Epoch 14/100\n",
      " - 11s - loss: 5.3713 - acc: 0.0784\n",
      "Epoch 15/100\n",
      " - 13s - loss: 5.2268 - acc: 0.0784\n",
      "Epoch 16/100\n",
      " - 11s - loss: 5.0830 - acc: 0.0883\n",
      "Epoch 17/100\n",
      " - 11s - loss: 4.9420 - acc: 0.0943\n",
      "Epoch 18/100\n",
      " - 12s - loss: 4.8038 - acc: 0.1080\n",
      "Epoch 19/100\n",
      " - 11s - loss: 4.6638 - acc: 0.1188\n",
      "Epoch 20/100\n",
      " - 11s - loss: 4.5205 - acc: 0.1382\n",
      "Epoch 21/100\n",
      " - 12s - loss: 4.3788 - acc: 0.1601\n",
      "Epoch 22/100\n",
      " - 11s - loss: 4.2336 - acc: 0.1833\n",
      "Epoch 23/100\n",
      " - 12s - loss: 4.0912 - acc: 0.2121\n",
      "Epoch 24/100\n",
      " - 12s - loss: 3.9429 - acc: 0.2400\n",
      "Epoch 25/100\n",
      " - 12s - loss: 3.7954 - acc: 0.2749\n",
      "Epoch 26/100\n",
      " - 17s - loss: 3.6472 - acc: 0.3003\n",
      "Epoch 27/100\n",
      " - 14s - loss: 3.5006 - acc: 0.3274\n",
      "Epoch 28/100\n",
      " - 15s - loss: 3.3536 - acc: 0.3576\n",
      "Epoch 29/100\n",
      " - 13s - loss: 3.2133 - acc: 0.3756\n",
      "Epoch 30/100\n",
      " - 12s - loss: 3.0715 - acc: 0.4072\n",
      "Epoch 31/100\n",
      " - 11s - loss: 2.9384 - acc: 0.4256\n",
      "Epoch 32/100\n",
      " - 13s - loss: 2.8082 - acc: 0.4526\n",
      "Epoch 33/100\n",
      " - 16s - loss: 2.6816 - acc: 0.4810\n",
      "Epoch 34/100\n",
      " - 16s - loss: 2.5651 - acc: 0.4993\n",
      "Epoch 35/100\n",
      " - 15s - loss: 2.4511 - acc: 0.5244\n",
      "Epoch 36/100\n",
      " - 14s - loss: 2.3431 - acc: 0.5484\n",
      "Epoch 37/100\n",
      " - 16s - loss: 2.2423 - acc: 0.5608\n",
      "Epoch 38/100\n",
      " - 15s - loss: 2.1437 - acc: 0.5822\n",
      "Epoch 39/100\n",
      " - 14s - loss: 2.0554 - acc: 0.5957\n",
      "Epoch 40/100\n",
      " - 14s - loss: 1.9663 - acc: 0.6171\n",
      "Epoch 41/100\n",
      " - 12s - loss: 1.8872 - acc: 0.6285\n",
      "Epoch 42/100\n",
      " - 13s - loss: 1.8091 - acc: 0.6446\n",
      "Epoch 43/100\n",
      " - 14s - loss: 1.7350 - acc: 0.6601\n",
      "Epoch 44/100\n",
      " - 15s - loss: 1.6669 - acc: 0.6767\n",
      "Epoch 45/100\n",
      " - 15s - loss: 1.5998 - acc: 0.6873\n",
      "Epoch 46/100\n",
      " - 15s - loss: 1.5389 - acc: 0.7000\n",
      "Epoch 47/100\n",
      " - 16s - loss: 1.4787 - acc: 0.7093\n",
      "Epoch 48/100\n",
      " - 14s - loss: 1.4215 - acc: 0.7214\n",
      "Epoch 49/100\n",
      " - 16s - loss: 1.3667 - acc: 0.7314\n",
      "Epoch 50/100\n",
      " - 17s - loss: 1.3159 - acc: 0.7461\n",
      "Epoch 51/100\n",
      " - 16s - loss: 1.2665 - acc: 0.7542\n",
      "Epoch 52/100\n",
      " - 16s - loss: 1.2204 - acc: 0.7592\n",
      "Epoch 53/100\n",
      " - 15s - loss: 1.1748 - acc: 0.7723\n",
      "Epoch 54/100\n",
      " - 12s - loss: 1.1304 - acc: 0.7784\n",
      "Epoch 55/100\n",
      " - 11s - loss: 1.0874 - acc: 0.7874\n",
      "Epoch 56/100\n",
      " - 13s - loss: 1.0485 - acc: 0.7957\n",
      "Epoch 57/100\n",
      " - 16s - loss: 1.0120 - acc: 0.8005\n",
      "Epoch 58/100\n",
      " - 16s - loss: 0.9713 - acc: 0.8144\n",
      "Epoch 59/100\n",
      " - 16s - loss: 0.9391 - acc: 0.8205\n",
      "Epoch 60/100\n",
      " - 16s - loss: 0.9087 - acc: 0.8242\n",
      "Epoch 61/100\n",
      " - 17s - loss: 0.8738 - acc: 0.8344\n",
      "Epoch 62/100\n",
      " - 17s - loss: 0.8423 - acc: 0.8413\n",
      "Epoch 63/100\n",
      " - 17s - loss: 0.8155 - acc: 0.8444\n",
      "Epoch 64/100\n",
      " - 17s - loss: 0.7866 - acc: 0.8508\n",
      "Epoch 65/100\n",
      " - 16s - loss: 0.7579 - acc: 0.8577\n",
      "Epoch 66/100\n",
      " - 17s - loss: 0.7348 - acc: 0.8594\n",
      "Epoch 67/100\n",
      " - 17s - loss: 0.7118 - acc: 0.8630\n",
      "Epoch 68/100\n",
      " - 17s - loss: 0.6887 - acc: 0.8689\n",
      "Epoch 69/100\n",
      " - 17s - loss: 0.6635 - acc: 0.8734\n",
      "Epoch 70/100\n",
      " - 16s - loss: 0.6431 - acc: 0.8776\n",
      "Epoch 71/100\n",
      " - 14s - loss: 0.6242 - acc: 0.8800\n",
      "Epoch 72/100\n",
      " - 14s - loss: 0.6051 - acc: 0.8826\n",
      "Epoch 73/100\n",
      " - 13s - loss: 0.5880 - acc: 0.8862\n",
      "Epoch 74/100\n",
      " - 14s - loss: 0.5684 - acc: 0.8853\n",
      "Epoch 75/100\n",
      " - 16s - loss: 0.5528 - acc: 0.8909\n",
      "Epoch 76/100\n",
      " - 13s - loss: 0.5373 - acc: 0.8941\n",
      "Epoch 77/100\n",
      " - 13s - loss: 0.5242 - acc: 0.8932\n",
      "Epoch 78/100\n",
      " - 13s - loss: 0.5098 - acc: 0.8972\n",
      "Epoch 79/100\n",
      " - 13s - loss: 0.4955 - acc: 0.8986\n",
      "Epoch 80/100\n",
      " - 14s - loss: 0.4801 - acc: 0.9002\n",
      "Epoch 81/100\n",
      " - 15s - loss: 0.4716 - acc: 0.9009\n",
      "Epoch 82/100\n",
      " - 15s - loss: 0.4592 - acc: 0.9026\n",
      "Epoch 83/100\n",
      " - 12s - loss: 0.4453 - acc: 0.9045\n",
      "Epoch 84/100\n",
      " - 14s - loss: 0.4376 - acc: 0.9080\n",
      "Epoch 85/100\n",
      " - 13s - loss: 0.4282 - acc: 0.9080\n",
      "Epoch 86/100\n",
      " - 15s - loss: 0.4184 - acc: 0.9082\n",
      "Epoch 87/100\n",
      " - 15s - loss: 0.4106 - acc: 0.9104\n",
      "Epoch 88/100\n",
      " - 15s - loss: 0.4030 - acc: 0.9098\n",
      "Epoch 89/100\n",
      " - 14s - loss: 0.3961 - acc: 0.9114\n",
      "Epoch 90/100\n",
      " - 13s - loss: 0.3855 - acc: 0.9111\n",
      "Epoch 91/100\n",
      " - 14s - loss: 0.3789 - acc: 0.9123\n",
      "Epoch 92/100\n",
      " - 16s - loss: 0.3743 - acc: 0.9102\n",
      "Epoch 93/100\n",
      " - 16s - loss: 0.3675 - acc: 0.9117\n",
      "Epoch 94/100\n",
      " - 17s - loss: 0.3612 - acc: 0.9120\n",
      "Epoch 95/100\n",
      " - 14s - loss: 0.3538 - acc: 0.9140\n",
      "Epoch 96/100\n",
      " - 16s - loss: 0.3511 - acc: 0.9122\n",
      "Epoch 97/100\n",
      " - 14s - loss: 0.3475 - acc: 0.9138\n",
      "Epoch 98/100\n",
      " - 14s - loss: 0.3411 - acc: 0.9146\n",
      "Epoch 99/100\n",
      " - 13s - loss: 0.3371 - acc: 0.9153\n",
      "Epoch 100/100\n",
      " - 14s - loss: 0.3321 - acc: 0.9158\n"
     ]
    },
    {
     "data": {
      "text/plain": [
       "<tensorflow.python.keras.callbacks.History at 0x203d0bae7b8>"
      ]
     },
     "execution_count": 25,
     "metadata": {},
     "output_type": "execute_result"
    }
   ],
   "source": [
    "lstm_model = Sequential()\n",
    "lstm_model.add(Embedding(vocab_size_lstm, 10, input_length=max_len_lstm-1))\n",
    "lstm_model.add(LSTM(128))\n",
    "lstm_model.add(Dense(vocab_size_lstm, activation='softmax'))\n",
    "lstm_model.compile(loss='categorical_crossentropy', optimizer='adam', metrics=['accuracy'])\n",
    "lstm_model.fit(X, y, epochs=100, verbose=2)"
   ]
  },
  {
   "cell_type": "markdown",
   "metadata": {},
   "source": [
    "문장을 생성해보고 학습이 잘 되었는지 확인해보자."
   ]
  },
  {
   "cell_type": "code",
   "execution_count": 29,
   "metadata": {},
   "outputs": [
    {
     "name": "stdout",
     "output_type": "stream",
     "text": [
      "i want to be rich and im not sorry it best\n",
      "how to make facebook more accountable gluten and gop at say\n"
     ]
    }
   ],
   "source": [
    "print(sentence_generation(lstm_model, t_lstm, 'i', 10, max_len_lstm))\n",
    "print(sentence_generation(lstm_model, t_lstm, 'how', 10, max_len_lstm))"
   ]
  },
  {
   "cell_type": "code",
   "execution_count": null,
   "metadata": {},
   "outputs": [],
   "source": []
  }
 ],
 "metadata": {
  "kernelspec": {
   "display_name": "Python 3",
   "language": "python",
   "name": "python3"
  },
  "language_info": {
   "codemirror_mode": {
    "name": "ipython",
    "version": 3
   },
   "file_extension": ".py",
   "mimetype": "text/x-python",
   "name": "python",
   "nbconvert_exporter": "python",
   "pygments_lexer": "ipython3",
   "version": "3.6.8"
  }
 },
 "nbformat": 4,
 "nbformat_minor": 2
}
